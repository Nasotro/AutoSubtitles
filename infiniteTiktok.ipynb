{
 "cells": [
  {
   "cell_type": "markdown",
   "metadata": {},
   "source": [
    "# Generate Infinite Tiktoks"
   ]
  },
  {
   "cell_type": "markdown",
   "metadata": {},
   "source": [
    "## Generate video text\n",
    "The first step to generate a tiktok, is obviously to know what you're going to stay.\n",
    "\n",
    "To do so, my idea was to find something in genius.com, the famous website to have extra information on rap/pop songs. You can have informations about the context of the song when it was released.\n"
   ]
  },
  {
   "cell_type": "code",
   "execution_count": 2,
   "metadata": {},
   "outputs": [],
   "source": [
    "import os\n",
    "import requests\n"
   ]
  },
  {
   "cell_type": "code",
   "execution_count": 3,
   "metadata": {},
   "outputs": [],
   "source": [
    "def get_annotation(annotation_id):\n",
    "    url = f\"https://api.genius.com/annotations/{annotation_id}\"\n",
    "    payload = {}\n",
    "    headers = {'Authorization': 'Bearer ' + os.environ['RAPGENIUS_API_KEY']}\n",
    "    r = requests.request(\"GET\", url, headers=headers, data=payload)\n",
    "    data = r.json()\n",
    "    \n",
    "    full_annotation = \"\"\n",
    "    parts = data['response']['annotation']['body']['dom']['children']\n",
    "\n",
    "    full_annotation = find_annotation(parts)\n",
    "    \n",
    "    return full_annotation\n",
    "def find_annotation(root):\n",
    "    # print(type(root))\n",
    "    full_annotation = \"\"\n",
    "    if(type(root) == str):\n",
    "        if(root == \"\"):\n",
    "            root = '\\n'\n",
    "        full_annotation += root\n",
    "    elif(type(root) == dict):\n",
    "        if('children' in root):\n",
    "            full_annotation += find_annotation(root['children'])\n",
    "    elif(type(root) == list):\n",
    "        for part in root:\n",
    "            full_annotation += find_annotation(part)\n",
    "    \n",
    "    return full_annotation\n",
    "def get_id_song(url):\n",
    "    response = requests.get(url).content\n",
    "    id = int(response.split(b'genius://songs/')[1].split(b'\"')[0])\n",
    "    return id\n",
    "def get_song_description(song_id):\n",
    "    url = f\"https://api.genius.com/songs/{song_id}\"\n",
    "\n",
    "    payload = {}\n",
    "    headers = {\n",
    "        'Authorization': 'Bearer ' + os.environ['RAPGENIUS_API_KEY']\n",
    "    }\n",
    "\n",
    "    response = requests.request(\"GET\", url, headers=headers, data=payload)\n",
    "    data = response.json()\n",
    "    return get_annotation(data['response']['song']['description_annotation']['id'])\n"
   ]
  },
  {
   "cell_type": "code",
   "execution_count": 4,
   "metadata": {},
   "outputs": [
    {
     "name": "stdout",
     "output_type": "stream",
     "text": [
      "“Houdini” is the lead single of Eminem’s twelfth studio album The Death of Slim Shady (Coup de Grâce). The track is named after Harry Houdini, a popular magician known for his death-defying stunts like the Chinese Water Torture Cell, which Eminem replicates in the intro to his 1999 track, “Role Model.”\n",
      "With the return of long-time collaborator Jeff Bass of the Bass Brothers, Eminem revisits his catchy albeit morbid sound of the early 2000s. This fanfare track sees him callback to his old catchphrases such as Shady’s iconic “Guess who’s back?” line from the 2002 track “Without Me.” The song heavily samples and interpolates the Steve Miller Band’s 1982 track “Abracadabra.”\n",
      "On October 24, 1926, the legendary Houdini tragically passed away in Detroit, Michigan at the age of 52. Interestingly, Detroit is also the hometown of Eminem, who turns 52 in October 2024.\n",
      "The single was first teased by Eminem on May 20, 2024, when he posted a teaser to his social media accounts with a text message from “All Contacts” stating, “…and for my last trick!” The text message also has the date of May 31, sparking rumors of Eminem releasing music on that day.\n",
      "On May 28, 2024, Eminem posted a video to Instagram of him on a FaceTime call with magician David Blaine. At the end of the video, he announced the release of “Houdini” on May 31, then closed out by stating “for my last trick, I’m gonna make my career disappear,” hinting at The Death of Slim Shady (Coup de Grâce) being his final album.\n"
     ]
    }
   ],
   "source": [
    "url = \"https://genius.com/Eminem-houdini-lyrics\"\n",
    "\n",
    "song_description = get_song_description(get_id_song(url))\n",
    "print(song_description)"
   ]
  },
  {
   "cell_type": "markdown",
   "metadata": {},
   "source": [
    "## Create Audio for the video"
   ]
  },
  {
   "cell_type": "code",
   "execution_count": 10,
   "metadata": {},
   "outputs": [],
   "source": [
    "from openai import OpenAI\n",
    "import os\n",
    "\n",
    "api_key = os.environ.get('OPENAI_API_KEY_LORRAIN')\n",
    "client = OpenAI(api_key=api_key)\n",
    "\n",
    "def text_to_speech_mp3(text, output_filename, model=\"tts-1\", voice=\"alloy\"):\n",
    "    \"\"\"\n",
    "    Converts a text string to speech using the OpenAI API and writes the resulting audio to an MP3 file.\n",
    "\n",
    "    Args:\n",
    "    text (str): The text string to convert to speech.\n",
    "    output_filename (str): The name of the output MP3 file.\n",
    "    model (str): The model to use for speech synthesis. Defaults to 'tts-1'.\n",
    "    voice (str): The voice to use for speech synthesis. Defaults to 'alloy'.\n",
    "    \"\"\"\n",
    "    global client\n",
    "    client = OpenAI(api_key=os.environ.get('OPENAI_API_KEY_LORRAIN')) if client is None else client\n",
    "    speech_file_path = output_filename\n",
    "\n",
    "\n",
    "    with client.audio.speech.with_streaming_response.create(\n",
    "        model=model,\n",
    "        voice=voice,\n",
    "        input=text,\n",
    "    ) as response:\n",
    "        response.stream_to_file(speech_file_path+('.mp3' if not speech_file_path.endswith('.mp3') else ''))\n",
    "\n",
    "def getTextTimingsOfMp3(mp3file):\n",
    "    global client\n",
    "    client = OpenAI(api_key=os.environ.get('OPENAI_API_KEY_LORRAIN')) if client is None else client\n",
    "    \n",
    "    audio_file = open(mp3file, \"rb\")\n",
    "    transcript = client.audio.transcriptions.create(\n",
    "        file=audio_file,\n",
    "        model=\"whisper-1\",\n",
    "        response_format=\"verbose_json\",\n",
    "        timestamp_granularities=[\"word\"]\n",
    "    )\n",
    "\n",
    "    return transcript\n"
   ]
  },
  {
   "cell_type": "code",
   "execution_count": 42,
   "metadata": {},
   "outputs": [],
   "source": [
    "def onlychars(text):\n",
    "    return ''.join(c if c.isalnum() or c.isspace() else '' for c in text)\n",
    "\n",
    "def verify_transcription(original_text, transcription):\n",
    "    \"\"\"\n",
    "    Verifies that the text is the same after the tts and stt.\n",
    "\n",
    "    Args:\n",
    "    original_text (str): The original text.\n",
    "    transcription (dict): The transcription dictionary.\n",
    "\n",
    "    Returns:\n",
    "    int: ratio of the original text and the transcription text.\n",
    "    \"\"\"\n",
    "    transcription_text = onlychars(transcription.text.lower())\n",
    "    original_text = onlychars(original_text.lower())\n",
    "    \n",
    "    print('original :\\n',original_text.replace('\\n', ' '))\n",
    "    print('transcription :\\n',transcription_text,'\\n')\n",
    "    \n",
    "    \n",
    "    if transcription_text == original_text:\n",
    "        return 1\n",
    "    \n",
    "    # correct_words = 0\n",
    "    for word in original_text.split():\n",
    "        # print(f'testing {word}')\n",
    "        len_before = len(transcription_text)\n",
    "        transcription_text = str(transcription_text).replace(word, '', 1)\n",
    "        len_after = len(transcription_text)\n",
    "        if(len_before == len_after):\n",
    "            print(f'word {word} not found')\n",
    "        # print(f'removed word ? {len_before - len_after}')\n",
    "#\n",
    "    print(len(original_text.split()), len(transcription_text.split()))\n",
    "    return 1 - len(transcription_text.split()) / len(original_text.split())\n"
   ]
  },
  {
   "cell_type": "code",
   "execution_count": 11,
   "metadata": {},
   "outputs": [],
   "source": [
    "text_to_speech_mp3(song_description, 'audio_description')\n",
    "timing_description = getTextTimingsOfMp3('audio_description.mp3')"
   ]
  },
  {
   "cell_type": "code",
   "execution_count": 48,
   "metadata": {},
   "outputs": [
    {
     "name": "stdout",
     "output_type": "stream",
     "text": [
      "Transcription(text=\"Houdini is the lead single of Eminem's 12th studio album, The Death of Slim Shady, Coup de Grace. The track is named after Harry Houdini, a popular magician known for his death-defying stunts like the Chinese water torture cell, which Eminem replicates in the intro to his 1999 track, Role Model. With the return of longtime collaborator Jeff Bass of the Bass Brothers, Eminem revisits his catchy albeit morbid sound of the early 2000s. This fanfare track sees him call back to his old catchphrases such as Shady's iconic Guess Who's Back line from the 2002 track Without Me. The song heavily samples and interpolates the Steve Miller band's 1982 track, Abracadabra. On October 24th, 1926, the legendary Houdini tragically passed away in Detroit, Michigan at the age of 52. Interestingly, Detroit is also the hometown of Eminem who turns 52 in October 2024. The single was first teased by Eminem on May 20th, 2024 when he posted a teaser to his social media accounts with a text message from all contacts stating, and for my last trick. The text message also has the date of May 31st, sparking rumors of Eminem releasing music on that day. On May 28th, 2024, Eminem posted a video to Instagram of him on a FaceTime call with magician David Blaine. At the end of the video, he announced the release of Houdini on May 31st, then closed out by stating, for my last trick, I'm gonna make my career disappear. Hinting at the death of Slim Shady, Coup De Grace being his final album.\", task='transcribe', language='english', duration=100.75, words=[{'word': 'Houdini', 'start': 0.0, 'end': 0.4000000059604645}, {'word': 'is', 'start': 0.4000000059604645, 'end': 0.6600000262260437}, {'word': 'the', 'start': 0.6600000262260437, 'end': 0.800000011920929}, {'word': 'lead', 'start': 0.800000011920929, 'end': 1.0800000429153442}, {'word': 'single', 'start': 1.0800000429153442, 'end': 1.2999999523162842}, {'word': 'of', 'start': 1.2999999523162842, 'end': 1.559999942779541}, {'word': \"Eminem's\", 'start': 1.559999942779541, 'end': 1.899999976158142}, {'word': '12th', 'start': 1.899999976158142, 'end': 2.359999895095825}, {'word': 'studio', 'start': 2.359999895095825, 'end': 2.6600000858306885}, {'word': 'album', 'start': 2.6600000858306885, 'end': 3.0399999618530273}, {'word': 'The', 'start': 3.2799999713897705, 'end': 3.5799999237060547}, {'word': 'Death', 'start': 3.5799999237060547, 'end': 3.5799999237060547}, {'word': 'of', 'start': 3.5799999237060547, 'end': 3.740000009536743}, {'word': 'Slim', 'start': 3.740000009536743, 'end': 4.079999923706055}, {'word': 'Shady', 'start': 4.079999923706055, 'end': 4.380000114440918}, {'word': 'Coup', 'start': 4.900000095367432, 'end': 4.920000076293945}, {'word': 'de', 'start': 4.920000076293945, 'end': 5.099999904632568}, {'word': 'Grace', 'start': 5.099999904632568, 'end': 5.420000076293945}, {'word': 'The', 'start': 6.239999771118164, 'end': 6.340000152587891}, {'word': 'track', 'start': 6.340000152587891, 'end': 6.579999923706055}, {'word': 'is', 'start': 6.579999923706055, 'end': 6.860000133514404}, {'word': 'named', 'start': 6.860000133514404, 'end': 7.059999942779541}, {'word': 'after', 'start': 7.059999942779541, 'end': 7.340000152587891}, {'word': 'Harry', 'start': 7.340000152587891, 'end': 7.820000171661377}, {'word': 'Houdini', 'start': 7.820000171661377, 'end': 8.15999984741211}, {'word': 'a', 'start': 8.479999542236328, 'end': 8.640000343322754}, {'word': 'popular', 'start': 8.640000343322754, 'end': 8.979999542236328}, {'word': 'magician', 'start': 8.979999542236328, 'end': 9.460000038146973}, {'word': 'known', 'start': 9.460000038146973, 'end': 9.9399995803833}, {'word': 'for', 'start': 9.9399995803833, 'end': 10.180000305175781}, {'word': 'his', 'start': 10.180000305175781, 'end': 10.479999542236328}, {'word': 'death', 'start': 10.479999542236328, 'end': 10.680000305175781}, {'word': 'defying', 'start': 10.680000305175781, 'end': 11.039999961853027}, {'word': 'stunts', 'start': 11.039999961853027, 'end': 11.460000038146973}, {'word': 'like', 'start': 11.460000038146973, 'end': 11.720000267028809}, {'word': 'the', 'start': 11.720000267028809, 'end': 11.920000076293945}, {'word': 'Chinese', 'start': 11.920000076293945, 'end': 12.399999618530273}, {'word': 'water', 'start': 12.399999618530273, 'end': 12.760000228881836}, {'word': 'torture', 'start': 12.760000228881836, 'end': 13.039999961853027}, {'word': 'cell', 'start': 13.039999961853027, 'end': 13.479999542236328}, {'word': 'which', 'start': 13.880000114440918, 'end': 14.0600004196167}, {'word': 'Eminem', 'start': 14.0600004196167, 'end': 14.420000076293945}, {'word': 'replicates', 'start': 14.420000076293945, 'end': 14.9399995803833}, {'word': 'in', 'start': 14.9399995803833, 'end': 15.199999809265137}, {'word': 'the', 'start': 15.199999809265137, 'end': 15.640000343322754}, {'word': 'intro', 'start': 15.640000343322754, 'end': 15.640000343322754}, {'word': 'to', 'start': 15.640000343322754, 'end': 15.9399995803833}, {'word': 'his', 'start': 15.9399995803833, 'end': 16.280000686645508}, {'word': '1999', 'start': 16.280000686645508, 'end': 16.8799991607666}, {'word': 'track', 'start': 16.8799991607666, 'end': 17.3799991607666}, {'word': 'Role', 'start': 17.739999771118164, 'end': 18.18000030517578}, {'word': 'Model', 'start': 18.18000030517578, 'end': 18.18000030517578}, {'word': 'With', 'start': 19.579999923706055, 'end': 19.68000030517578}, {'word': 'the', 'start': 19.68000030517578, 'end': 20.139999389648438}, {'word': 'return', 'start': 20.139999389648438, 'end': 20.139999389648438}, {'word': 'of', 'start': 20.139999389648438, 'end': 20.3799991607666}, {'word': 'longtime', 'start': 20.3799991607666, 'end': 20.780000686645508}, {'word': 'collaborator', 'start': 20.780000686645508, 'end': 21.459999084472656}, {'word': 'Jeff', 'start': 21.459999084472656, 'end': 22.040000915527344}, {'word': 'Bass', 'start': 22.040000915527344, 'end': 22.31999969482422}, {'word': 'of', 'start': 22.31999969482422, 'end': 22.520000457763672}, {'word': 'the', 'start': 22.520000457763672, 'end': 22.81999969482422}, {'word': 'Bass', 'start': 22.81999969482422, 'end': 22.959999084472656}, {'word': 'Brothers', 'start': 22.959999084472656, 'end': 23.299999237060547}, {'word': 'Eminem', 'start': 23.719999313354492, 'end': 23.940000534057617}, {'word': 'revisits', 'start': 23.940000534057617, 'end': 24.3799991607666}, {'word': 'his', 'start': 24.3799991607666, 'end': 24.68000030517578}, {'word': 'catchy', 'start': 24.68000030517578, 'end': 24.940000534057617}, {'word': 'albeit', 'start': 24.940000534057617, 'end': 25.440000534057617}, {'word': 'morbid', 'start': 25.440000534057617, 'end': 25.860000610351562}, {'word': 'sound', 'start': 25.860000610351562, 'end': 26.219999313354492}, {'word': 'of', 'start': 26.219999313354492, 'end': 26.360000610351562}, {'word': 'the', 'start': 26.360000610351562, 'end': 26.5}, {'word': 'early', 'start': 26.5, 'end': 26.799999237060547}, {'word': '2000s', 'start': 26.799999237060547, 'end': 27.65999984741211}, {'word': 'This', 'start': 28.68000030517578, 'end': 29.399999618530273}, {'word': 'fanfare', 'start': 29.399999618530273, 'end': 29.920000076293945}, {'word': 'track', 'start': 29.920000076293945, 'end': 30.219999313354492}, {'word': 'sees', 'start': 30.219999313354492, 'end': 30.479999542236328}, {'word': 'him', 'start': 30.479999542236328, 'end': 30.639999389648438}, {'word': 'call', 'start': 30.639999389648438, 'end': 30.899999618530273}, {'word': 'back', 'start': 30.899999618530273, 'end': 31.139999389648438}, {'word': 'to', 'start': 31.139999389648438, 'end': 31.280000686645508}, {'word': 'his', 'start': 31.280000686645508, 'end': 31.420000076293945}, {'word': 'old', 'start': 31.420000076293945, 'end': 31.780000686645508}, {'word': 'catchphrases', 'start': 31.780000686645508, 'end': 32.380001068115234}, {'word': 'such', 'start': 32.380001068115234, 'end': 32.70000076293945}, {'word': 'as', 'start': 32.70000076293945, 'end': 33.0}, {'word': \"Shady's\", 'start': 33.0, 'end': 33.47999954223633}, {'word': 'iconic', 'start': 33.47999954223633, 'end': 33.880001068115234}, {'word': 'Guess', 'start': 33.880001068115234, 'end': 34.439998626708984}, {'word': \"Who's\", 'start': 34.439998626708984, 'end': 34.68000030517578}, {'word': 'Back', 'start': 34.68000030517578, 'end': 35.0}, {'word': 'line', 'start': 35.0, 'end': 35.439998626708984}, {'word': 'from', 'start': 35.439998626708984, 'end': 35.599998474121094}, {'word': 'the', 'start': 35.599998474121094, 'end': 35.79999923706055}, {'word': '2002', 'start': 35.79999923706055, 'end': 36.560001373291016}, {'word': 'track', 'start': 36.560001373291016, 'end': 36.959999084472656}, {'word': 'Without', 'start': 36.959999084472656, 'end': 37.34000015258789}, {'word': 'Me', 'start': 37.34000015258789, 'end': 37.65999984741211}, {'word': 'The', 'start': 38.380001068115234, 'end': 38.47999954223633}, {'word': 'song', 'start': 38.47999954223633, 'end': 38.68000030517578}, {'word': 'heavily', 'start': 38.68000030517578, 'end': 39.119998931884766}, {'word': 'samples', 'start': 39.119998931884766, 'end': 39.47999954223633}, {'word': 'and', 'start': 39.47999954223633, 'end': 39.81999969482422}, {'word': 'interpolates', 'start': 39.81999969482422, 'end': 40.34000015258789}, {'word': 'the', 'start': 40.34000015258789, 'end': 40.720001220703125}, {'word': 'Steve', 'start': 40.720001220703125, 'end': 40.900001525878906}, {'word': 'Miller', 'start': 40.900001525878906, 'end': 41.040000915527344}, {'word': \"band's\", 'start': 41.040000915527344, 'end': 41.599998474121094}, {'word': '1982', 'start': 41.599998474121094, 'end': 42.2400016784668}, {'word': 'track', 'start': 42.2400016784668, 'end': 42.81999969482422}, {'word': 'Abracadabra', 'start': 43.2599983215332, 'end': 43.720001220703125}, {'word': 'On', 'start': 45.119998931884766, 'end': 45.20000076293945}, {'word': 'October', 'start': 45.20000076293945, 'end': 45.52000045776367}, {'word': '24th', 'start': 45.52000045776367, 'end': 46.380001068115234}, {'word': '1926', 'start': 46.380001068115234, 'end': 47.29999923706055}, {'word': 'the', 'start': 47.7599983215332, 'end': 47.939998626708984}, {'word': 'legendary', 'start': 47.939998626708984, 'end': 48.36000061035156}, {'word': 'Houdini', 'start': 48.36000061035156, 'end': 48.91999816894531}, {'word': 'tragically', 'start': 48.91999816894531, 'end': 49.58000183105469}, {'word': 'passed', 'start': 49.58000183105469, 'end': 49.880001068115234}, {'word': 'away', 'start': 49.880001068115234, 'end': 50.20000076293945}, {'word': 'in', 'start': 50.20000076293945, 'end': 50.400001525878906}, {'word': 'Detroit', 'start': 50.400001525878906, 'end': 50.720001220703125}, {'word': 'Michigan', 'start': 50.939998626708984, 'end': 51.18000030517578}, {'word': 'at', 'start': 51.18000030517578, 'end': 51.58000183105469}, {'word': 'the', 'start': 51.58000183105469, 'end': 51.91999816894531}, {'word': 'age', 'start': 51.91999816894531, 'end': 51.91999816894531}, {'word': 'of', 'start': 51.91999816894531, 'end': 52.15999984741211}, {'word': '52', 'start': 52.15999984741211, 'end': 52.68000030517578}, {'word': 'Interestingly', 'start': 53.400001525878906, 'end': 53.84000015258789}, {'word': 'Detroit', 'start': 54.58000183105469, 'end': 54.58000183105469}, {'word': 'is', 'start': 54.58000183105469, 'end': 54.779998779296875}, {'word': 'also', 'start': 54.779998779296875, 'end': 55.15999984741211}, {'word': 'the', 'start': 55.15999984741211, 'end': 55.36000061035156}, {'word': 'hometown', 'start': 55.36000061035156, 'end': 55.779998779296875}, {'word': 'of', 'start': 55.779998779296875, 'end': 56.119998931884766}, {'word': 'Eminem', 'start': 56.119998931884766, 'end': 56.5}, {'word': 'who', 'start': 56.5, 'end': 56.79999923706055}, {'word': 'turns', 'start': 56.79999923706055, 'end': 57.02000045776367}, {'word': '52', 'start': 57.02000045776367, 'end': 57.619998931884766}, {'word': 'in', 'start': 57.619998931884766, 'end': 58.2400016784668}, {'word': 'October', 'start': 58.2400016784668, 'end': 58.7400016784668}, {'word': '2024', 'start': 58.7400016784668, 'end': 59.79999923706055}, {'word': 'The', 'start': 60.459999084472656, 'end': 60.560001373291016}, {'word': 'single', 'start': 60.560001373291016, 'end': 60.81999969482422}, {'word': 'was', 'start': 60.81999969482422, 'end': 61.02000045776367}, {'word': 'first', 'start': 61.02000045776367, 'end': 61.720001220703125}, {'word': 'teased', 'start': 61.720001220703125, 'end': 61.720001220703125}, {'word': 'by', 'start': 61.720001220703125, 'end': 62.02000045776367}, {'word': 'Eminem', 'start': 62.02000045776367, 'end': 62.380001068115234}, {'word': 'on', 'start': 62.380001068115234, 'end': 62.720001220703125}, {'word': 'May', 'start': 62.720001220703125, 'end': 62.880001068115234}, {'word': '20th', 'start': 62.880001068115234, 'end': 63.619998931884766}, {'word': '2024', 'start': 63.619998931884766, 'end': 64.41999816894531}, {'word': 'when', 'start': 64.41999816894531, 'end': 64.80000305175781}, {'word': 'he', 'start': 64.80000305175781, 'end': 65.0199966430664}, {'word': 'posted', 'start': 65.0199966430664, 'end': 65.22000122070312}, {'word': 'a', 'start': 65.22000122070312, 'end': 65.73999786376953}, {'word': 'teaser', 'start': 65.73999786376953, 'end': 65.73999786376953}, {'word': 'to', 'start': 65.73999786376953, 'end': 65.9800033569336}, {'word': 'his', 'start': 65.9800033569336, 'end': 66.19999694824219}, {'word': 'social', 'start': 66.19999694824219, 'end': 66.45999908447266}, {'word': 'media', 'start': 66.45999908447266, 'end': 66.86000061035156}, {'word': 'accounts', 'start': 66.86000061035156, 'end': 67.26000213623047}, {'word': 'with', 'start': 67.26000213623047, 'end': 67.54000091552734}, {'word': 'a', 'start': 67.54000091552734, 'end': 67.80000305175781}, {'word': 'text', 'start': 67.80000305175781, 'end': 68.0199966430664}, {'word': 'message', 'start': 68.0199966430664, 'end': 68.36000061035156}, {'word': 'from', 'start': 68.36000061035156, 'end': 68.68000030517578}, {'word': 'all', 'start': 68.68000030517578, 'end': 69.13999938964844}, {'word': 'contacts', 'start': 69.13999938964844, 'end': 69.73999786376953}, {'word': 'stating', 'start': 69.73999786376953, 'end': 70.22000122070312}, {'word': 'and', 'start': 70.76000213623047, 'end': 70.77999877929688}, {'word': 'for', 'start': 70.77999877929688, 'end': 70.94000244140625}, {'word': 'my', 'start': 70.94000244140625, 'end': 71.13999938964844}, {'word': 'last', 'start': 71.13999938964844, 'end': 71.41999816894531}, {'word': 'trick', 'start': 71.41999816894531, 'end': 71.77999877929688}, {'word': 'The', 'start': 72.4800033569336, 'end': 72.58000183105469}, {'word': 'text', 'start': 72.58000183105469, 'end': 72.87999725341797}, {'word': 'message', 'start': 72.87999725341797, 'end': 73.18000030517578}, {'word': 'also', 'start': 73.18000030517578, 'end': 73.54000091552734}, {'word': 'has', 'start': 73.54000091552734, 'end': 73.68000030517578}, {'word': 'the', 'start': 73.68000030517578, 'end': 74.0199966430664}, {'word': 'date', 'start': 74.0199966430664, 'end': 74.0199966430664}, {'word': 'of', 'start': 74.0199966430664, 'end': 74.23999786376953}, {'word': 'May', 'start': 74.23999786376953, 'end': 74.36000061035156}, {'word': '31st', 'start': 74.36000061035156, 'end': 75.54000091552734}, {'word': 'sparking', 'start': 75.54000091552734, 'end': 75.73999786376953}, {'word': 'rumors', 'start': 75.73999786376953, 'end': 76.05999755859375}, {'word': 'of', 'start': 76.05999755859375, 'end': 76.44000244140625}, {'word': 'Eminem', 'start': 76.44000244140625, 'end': 76.73999786376953}, {'word': 'releasing', 'start': 76.73999786376953, 'end': 77.08000183105469}, {'word': 'music', 'start': 77.08000183105469, 'end': 77.41999816894531}, {'word': 'on', 'start': 77.41999816894531, 'end': 77.69999694824219}, {'word': 'that', 'start': 77.69999694824219, 'end': 77.87999725341797}, {'word': 'day', 'start': 77.87999725341797, 'end': 78.16000366210938}, {'word': 'On', 'start': 78.22000122070312, 'end': 78.69999694824219}, {'word': 'May', 'start': 78.69999694824219, 'end': 78.83999633789062}, {'word': '28th', 'start': 78.83999633789062, 'end': 79.69999694824219}, {'word': '2024', 'start': 80.0, 'end': 80.37999725341797}, {'word': 'Eminem', 'start': 80.87999725341797, 'end': 81.13999938964844}, {'word': 'posted', 'start': 81.13999938964844, 'end': 81.4000015258789}, {'word': 'a', 'start': 81.4000015258789, 'end': 81.62000274658203}, {'word': 'video', 'start': 81.62000274658203, 'end': 81.83999633789062}, {'word': 'to', 'start': 81.83999633789062, 'end': 82.08000183105469}, {'word': 'Instagram', 'start': 82.08000183105469, 'end': 82.4800033569336}, {'word': 'of', 'start': 82.4800033569336, 'end': 82.86000061035156}, {'word': 'him', 'start': 82.86000061035156, 'end': 82.9800033569336}, {'word': 'on', 'start': 82.9800033569336, 'end': 83.16000366210938}, {'word': 'a', 'start': 83.16000366210938, 'end': 83.26000213623047}, {'word': 'FaceTime', 'start': 83.26000213623047, 'end': 83.73999786376953}, {'word': 'call', 'start': 83.73999786376953, 'end': 84.04000091552734}, {'word': 'with', 'start': 84.04000091552734, 'end': 84.30000305175781}, {'word': 'magician', 'start': 84.30000305175781, 'end': 84.68000030517578}, {'word': 'David', 'start': 84.68000030517578, 'end': 85.12000274658203}, {'word': 'Blaine', 'start': 85.12000274658203, 'end': 85.4000015258789}, {'word': 'At', 'start': 85.9800033569336, 'end': 86.5}, {'word': 'the', 'start': 86.5, 'end': 86.68000030517578}, {'word': 'end', 'start': 86.68000030517578, 'end': 86.77999877929688}, {'word': 'of', 'start': 86.77999877929688, 'end': 86.94000244140625}, {'word': 'the', 'start': 86.94000244140625, 'end': 87.0199966430664}, {'word': 'video', 'start': 87.0199966430664, 'end': 87.27999877929688}, {'word': 'he', 'start': 87.66000366210938, 'end': 87.66000366210938}, {'word': 'announced', 'start': 87.66000366210938, 'end': 87.95999908447266}, {'word': 'the', 'start': 87.95999908447266, 'end': 88.0999984741211}, {'word': 'release', 'start': 88.0999984741211, 'end': 88.4000015258789}, {'word': 'of', 'start': 88.4000015258789, 'end': 88.62000274658203}, {'word': 'Houdini', 'start': 88.62000274658203, 'end': 89.05999755859375}, {'word': 'on', 'start': 89.05999755859375, 'end': 89.36000061035156}, {'word': 'May', 'start': 89.36000061035156, 'end': 89.5}, {'word': '31st', 'start': 89.5, 'end': 90.62000274658203}, {'word': 'then', 'start': 90.62000274658203, 'end': 90.76000213623047}, {'word': 'closed', 'start': 90.76000213623047, 'end': 91.0199966430664}, {'word': 'out', 'start': 91.0199966430664, 'end': 91.30000305175781}, {'word': 'by', 'start': 91.30000305175781, 'end': 91.5199966430664}, {'word': 'stating', 'start': 91.5199966430664, 'end': 91.81999969482422}, {'word': 'for', 'start': 92.27999877929688, 'end': 92.27999877929688}, {'word': 'my', 'start': 92.27999877929688, 'end': 92.5}, {'word': 'last', 'start': 92.5, 'end': 92.83999633789062}, {'word': 'trick', 'start': 92.83999633789062, 'end': 93.12000274658203}, {'word': \"I'm\", 'start': 93.45999908447266, 'end': 93.58000183105469}, {'word': 'gonna', 'start': 93.58000183105469, 'end': 93.72000122070312}, {'word': 'make', 'start': 93.72000122070312, 'end': 93.87999725341797}, {'word': 'my', 'start': 93.87999725341797, 'end': 94.13999938964844}, {'word': 'career', 'start': 94.13999938964844, 'end': 94.36000061035156}, {'word': 'disappear', 'start': 94.36000061035156, 'end': 94.94000244140625}, {'word': 'Hinting', 'start': 95.5199966430664, 'end': 95.68000030517578}, {'word': 'at', 'start': 95.68000030517578, 'end': 95.91999816894531}, {'word': 'the', 'start': 95.91999816894531, 'end': 96.05999755859375}, {'word': 'death', 'start': 96.05999755859375, 'end': 96.30000305175781}, {'word': 'of', 'start': 96.30000305175781, 'end': 96.58000183105469}, {'word': 'Slim', 'start': 96.58000183105469, 'end': 96.76000213623047}, {'word': 'Shady', 'start': 96.76000213623047, 'end': 97.05999755859375}, {'word': 'Coup', 'start': 97.69999694824219, 'end': 97.69999694824219}, {'word': 'De', 'start': 97.69999694824219, 'end': 97.86000061035156}, {'word': 'Grace', 'start': 97.86000061035156, 'end': 98.12000274658203}, {'word': 'being', 'start': 98.12000274658203, 'end': 98.62000274658203}, {'word': 'his', 'start': 98.62000274658203, 'end': 98.86000061035156}, {'word': 'final', 'start': 98.86000061035156, 'end': 99.22000122070312}, {'word': 'album', 'start': 99.22000122070312, 'end': 99.54000091552734}])\n",
      "original :\n",
      " houdini is the lead single of eminems twelfth studio album the death of slim shady coup de grâce the track is named after harry houdini a popular magician known for his deathdefying stunts like the chinese water torture cell which eminem replicates in the intro to his 1999 track role model with the return of longtime collaborator jeff bass of the bass brothers eminem revisits his catchy albeit morbid sound of the early 2000s this fanfare track sees him callback to his old catchphrases such as shadys iconic guess whos back line from the 2002 track without me the song heavily samples and interpolates the steve miller bands 1982 track abracadabra on october 24 1926 the legendary houdini tragically passed away in detroit michigan at the age of 52 interestingly detroit is also the hometown of eminem who turns 52 in october 2024 the single was first teased by eminem on may 20 2024 when he posted a teaser to his social media accounts with a text message from all contacts stating and for my last trick the text message also has the date of may 31 sparking rumors of eminem releasing music on that day on may 28 2024 eminem posted a video to instagram of him on a facetime call with magician david blaine at the end of the video he announced the release of houdini on may 31 then closed out by stating for my last trick im gonna make my career disappear hinting at the death of slim shady coup de grâce being his final album\n",
      "transcription :\n",
      " houdini is the lead single of eminems 12th studio album the death of slim shady coup de grace the track is named after harry houdini a popular magician known for his deathdefying stunts like the chinese water torture cell which eminem replicates in the intro to his 1999 track role model with the return of longtime collaborator jeff bass of the bass brothers eminem revisits his catchy albeit morbid sound of the early 2000s this fanfare track sees him call back to his old catchphrases such as shadys iconic guess whos back line from the 2002 track without me the song heavily samples and interpolates the steve miller bands 1982 track abracadabra on october 24th 1926 the legendary houdini tragically passed away in detroit michigan at the age of 52 interestingly detroit is also the hometown of eminem who turns 52 in october 2024 the single was first teased by eminem on may 20th 2024 when he posted a teaser to his social media accounts with a text message from all contacts stating and for my last trick the text message also has the date of may 31st sparking rumors of eminem releasing music on that day on may 28th 2024 eminem posted a video to instagram of him on a facetime call with magician david blaine at the end of the video he announced the release of houdini on may 31st then closed out by stating for my last trick im gonna make my career disappear hinting at the death of slim shady coup de grace being his final album \n",
      "\n",
      "word twelfth not found\n",
      "word grâce not found\n",
      "word callback not found\n",
      "word grâce not found\n",
      "260 13\n",
      "95.0 %\n"
     ]
    }
   ],
   "source": [
    "print(timing_description)\n",
    "print(verify_transcription(song_description, timing_description) * 100, \"%\")\n",
    "\n",
    "final_text = timing_description.text"
   ]
  },
  {
   "cell_type": "markdown",
   "metadata": {},
   "source": [
    "## Find pictures"
   ]
  },
  {
   "cell_type": "markdown",
   "metadata": {},
   "source": [
    "### Find picture descrition\n",
    "The idea I came up with is to ask a LLM (mistral in my case) to find some nice moments in the description of the song"
   ]
  },
  {
   "cell_type": "code",
   "execution_count": 47,
   "metadata": {},
   "outputs": [],
   "source": [
    "import os\n",
    "from mistralai.client import MistralClient\n",
    "from mistralai.models.chat_completion import ChatMessage\n",
    "\n",
    "def get_description_pictures(story):\n",
    "    api_key = os.environ[\"MISTRAL_API_KEY\"]\n",
    "    model = \"open-mistral-7b\"\n",
    "\n",
    "    client = MistralClient(api_key=api_key)\n",
    "\n",
    "    preprompt = \"\"\"Your job will be to write the visual of a tiktok video: the images that show on screen. You have to find some nice moments in the story to place pictures that will show on screen. Tell me when you choose an image of what. In this format:\n",
    "    DURING THE SENTENCE \"[place the full sentence here]\", SHOW AN IMAGE OF \"[place the description of the image]\".\n",
    "    Answer only with the descriptions of all the images. \n",
    "    You can set as many images as you want (dont be shy ;)) at least 15, and if a sentence needs more than one image, you can split the sentence in two or more parts.\n",
    "    Try not to give a description, but key words because i will look online for the exact same words you describe. That means if you are too complex, i will not be able to find the image.\n",
    "    \n",
    "    For example:\n",
    "    DURING THE SENTENCE \"he ate a sandwich\", SHOW AN IMAGE OF \"a sandwich\".\n",
    "\n",
    "    Now it is your turn:\n",
    "\n",
    "    STORY : \"\"\"\n",
    "\n",
    "    messages = [\n",
    "        ChatMessage(role=\"user\", content=preprompt + f'\"{story}\"'),\n",
    "    ]\n",
    "\n",
    "    chat_response = client.chat(\n",
    "        model=model,\n",
    "        messages=messages,\n",
    "    )\n",
    "\n",
    "    results = chat_response.choices[0].message.content\n",
    "\n",
    "    return results.split(\"\\n\\n\")\n",
    "def convert_to_dict(lines):\n",
    "    visual_dict = {}\n",
    "    for line in lines:\n",
    "        print(line)\n",
    "        if line:\n",
    "            sentence, image_desc = line.split(', SHOW AN IMAGE OF ', 1)\n",
    "            sentence = sentence.replace('DURING THE SENTENCE ', '', 1)\n",
    "            visual_dict[sentence] = image_desc\n",
    "    return visual_dict\n",
    "\n",
    "def get_pictures(story):\n",
    "    return convert_to_dict(get_description_pictures(story))\n"
   ]
  },
  {
   "cell_type": "code",
   "execution_count": 49,
   "metadata": {},
   "outputs": [
    {
     "name": "stdout",
     "output_type": "stream",
     "text": [
      "DURING THE SENTENCE \"Houdini is the lead single of Eminem's 12th studio album, The Death of Slim Shady, Coup de Grace.\", SHOW AN IMAGE OF \"Eminem album cover - The Death of Slim Shady, Coup de Grace\".\n",
      "DURING THE SENTENCE \"Coup de Grace being his final album.\", SHOW AN IMAGE OF \"Final album symbol\".\n",
      "DURING THE SENTENCE \"The track is named after Harry Houdini, a popular magician known for his death-defying stunts like the Chinese water torture cell, which Eminem replicates in the intro to his 1999 track, Role Model.\", SHOW AN IMAGE OF \"Harry Houdini in Chinese water torture cell\".\n",
      "DURING THE SENTENCE \"With the return of longtime collaborator Jeff Bass of the Bass Brothers, Eminem revisits his catchy albeit morbid sound of the early 2000s.\", SHOW AN IMAGE OF \"Eminem and Jeff Bass working together\".\n",
      "DURING THE SENTENCE \"This fanfare track sees him call back to his old catchphrases such as Shady's iconic Guess Who's Back line from the 2002 track Without Me.\", SHOW AN IMAGE OF \"Eminem with the text 'Guess Who's Back'\".\n",
      "DURING THE SENTENCE \"The song heavily samples and interpolates the Steve Miller band's 1982 track, Abracadabra.\", SHOW AN IMAGE OF \"Album cover or song cover of Steve Miller band's Abracadabra\".\n",
      "DURING THE SENTENCE \"On October 24th, 1926, the legendary Houdini tragically passed away in Detroit, Michigan at the age of 52.\", SHOW AN IMAGE OF \"Houdini's tombstone or memorial\".\n",
      "DURING THE SENTENCE \"Interestingly, Detroit is also the hometown of Eminem who turns 52 in October 2024.\", SHOW AN IMAGE OF \"Detroit cityscape with Eminem's face\".\n",
      "DURING THE SENTENCE \"The single was first teased by Eminem on May 20th, 2024 when he posted a teaser to his social media accounts with a text message from all contacts stating, and for my last trick.\", SHOW AN IMAGE OF \"Text message with the phrase 'and for my last trick'\".\n",
      "DURING THE SENTENCE \"On May 28th, 2024, Eminem posted a video to Instagram of him on a FaceTime call with magician David Blaine.\", SHOW AN IMAGE OF \"Eminem on FaceTime with magician David Blaine\".\n",
      "DURING THE SENTENCE \"At the end of the video, he announced the release of Houdini on May 31st, then closed out by stating, for my last trick, I'm gonna make my career disappear.\", SHOW AN IMAGE OF \"Eminem with the phrase 'for my last trick, I'm gonna make my career disappear'\".\n",
      "DURING THE SENTENCE \"Houdini was released on May 31st, 2024.\", SHOW AN IMAGE OF \"Eminem album release date\".\n",
      "DURING THE SENTENCE \"Hinting at the death of Slim Shady, Coup De Grace being his final album.\", SHOW AN IMAGE OF \"Eminem's Slim Shady character with a grave or coffin\".\n",
      "{'\"Houdini is the lead single of Eminem\\'s 12th studio album, The Death of Slim Shady, Coup de Grace.\"': '\"Eminem album cover - The Death of Slim Shady, Coup de Grace\".', '\"Coup de Grace being his final album.\"': '\"Final album symbol\".', '\"The track is named after Harry Houdini, a popular magician known for his death-defying stunts like the Chinese water torture cell, which Eminem replicates in the intro to his 1999 track, Role Model.\"': '\"Harry Houdini in Chinese water torture cell\".', '\"With the return of longtime collaborator Jeff Bass of the Bass Brothers, Eminem revisits his catchy albeit morbid sound of the early 2000s.\"': '\"Eminem and Jeff Bass working together\".', '\"This fanfare track sees him call back to his old catchphrases such as Shady\\'s iconic Guess Who\\'s Back line from the 2002 track Without Me.\"': '\"Eminem with the text \\'Guess Who\\'s Back\\'\".', '\"The song heavily samples and interpolates the Steve Miller band\\'s 1982 track, Abracadabra.\"': '\"Album cover or song cover of Steve Miller band\\'s Abracadabra\".', '\"On October 24th, 1926, the legendary Houdini tragically passed away in Detroit, Michigan at the age of 52.\"': '\"Houdini\\'s tombstone or memorial\".', '\"Interestingly, Detroit is also the hometown of Eminem who turns 52 in October 2024.\"': '\"Detroit cityscape with Eminem\\'s face\".', '\"The single was first teased by Eminem on May 20th, 2024 when he posted a teaser to his social media accounts with a text message from all contacts stating, and for my last trick.\"': '\"Text message with the phrase \\'and for my last trick\\'\".', '\"On May 28th, 2024, Eminem posted a video to Instagram of him on a FaceTime call with magician David Blaine.\"': '\"Eminem on FaceTime with magician David Blaine\".', '\"At the end of the video, he announced the release of Houdini on May 31st, then closed out by stating, for my last trick, I\\'m gonna make my career disappear.\"': '\"Eminem with the phrase \\'for my last trick, I\\'m gonna make my career disappear\\'\".', '\"Houdini was released on May 31st, 2024.\"': '\"Eminem album release date\".', '\"Hinting at the death of Slim Shady, Coup De Grace being his final album.\"': '\"Eminem\\'s Slim Shady character with a grave or coffin\".'}\n"
     ]
    }
   ],
   "source": [
    "descriptions = get_pictures(final_text)\n",
    "print(descriptions)"
   ]
  },
  {
   "cell_type": "markdown",
   "metadata": {},
   "source": [
    "### Generate or Find picture"
   ]
  },
  {
   "cell_type": "code",
   "execution_count": 50,
   "metadata": {},
   "outputs": [],
   "source": [
    "from google_images_search import GoogleImagesSearch\n",
    "\n",
    "def get_first_image_url(search_term, path_to_dir='images'):\n",
    "    search_term = search_term.replace('\"', '')\n",
    "    # print(search_term)\n",
    "    gis = GoogleImagesSearch(os.environ['GOOGLE_API_KEY'] , os.environ['GOOGLE_CX_KEY'])\n",
    "    _search_params = {\n",
    "        'q': search_term\n",
    "    }\n",
    "    gis.search(search_params=_search_params, path_to_dir=path_to_dir)\n",
    "\n",
    "    for result in gis.results():\n",
    "        return result.url\n",
    "\n",
    "    return None"
   ]
  },
  {
   "cell_type": "code",
   "execution_count": 51,
   "metadata": {},
   "outputs": [
    {
     "name": "stdout",
     "output_type": "stream",
     "text": [
      "{'\"Houdini is the lead single of Eminem\\'s 12th studio album, The Death of Slim Shady, Coup de Grace.\"': 'https://images.genius.com/93a2e6a47a168080c985d3855f31b3ca.1000x563x1.png', '\"Coup de Grace being his final album.\"': 'https://static.wikia.nocookie.net/wjsn/images/7/78/Queendom_2_FINAL_album_cover.jpg/revision/latest?cb=20220601095404', '\"The track is named after Harry Houdini, a popular magician known for his death-defying stunts like the Chinese water torture cell, which Eminem replicates in the intro to his 1999 track, Role Model.\"': 'https://upload.wikimedia.org/wikipedia/commons/e/e8/Houdini_performing_Water_Torture_Cell.jpg', '\"With the return of longtime collaborator Jeff Bass of the Bass Brothers, Eminem revisits his catchy albeit morbid sound of the early 2000s.\"': 'https://grantland.com/wp-content/uploads/2013/11/grant_g_eminemyoung_6402.jpg?w=750', '\"This fanfare track sees him call back to his old catchphrases such as Shady\\'s iconic Guess Who\\'s Back line from the 2002 track Without Me.\"': 'https://i.ytimg.com/vi/VELKyxnLXeQ/hqdefault.jpg', '\"The song heavily samples and interpolates the Steve Miller band\\'s 1982 track, Abracadabra.\"': 'https://upload.wikimedia.org/wikipedia/en/thumb/0/0c/AbracadabraSM.jpg/220px-AbracadabraSM.jpg', '\"On October 24th, 1926, the legendary Houdini tragically passed away in Detroit, Michigan at the age of 52.\"': 'https://img.atlasobscura.com/BUwlTieVEGQWxwroOlRV1X-5ZbUPak_OSyGGBkRpWnM/rs:fill:580:580:1/g:ce/q:81/sm:1/scp:1/ar:1/aHR0cHM6Ly9hdGxh/cy1kZXYuczMuYW1h/em9uYXdzLmNvbS91/cGxvYWRzL3BsYWNl/X2ltYWdlcy8zMjky/YWYzZDlmZmJiZWQx/NzJfaG91ZGluaWdy/YXZlMDguanBn.jpg', '\"Interestingly, Detroit is also the hometown of Eminem who turns 52 in October 2024.\"': 'https://pbs.twimg.com/media/F33VpO7WMAA5ulx.jpg', '\"The single was first teased by Eminem on May 20th, 2024 when he posted a teaser to his social media accounts with a text message from all contacts stating, and for my last trick.\"': 'https://m.media-amazon.com/images/I/51td8f0DQAL._AC_UF1000,1000_QL80_.jpg', '\"On May 28th, 2024, Eminem posted a video to Instagram of him on a FaceTime call with magician David Blaine.\"': 'https://townsquare.media/site/812/files/2024/05/attachment-eminem-david-blaine1.jpg?w=780&q=75', '\"At the end of the video, he announced the release of Houdini on May 31st, then closed out by stating, for my last trick, I\\'m gonna make my career disappear.\"': 'https://preview.redd.it/530xxz7yyc3d1.png?auto=webp&s=4cbf924c8b2c00b3818f7bf81cdbc8ded043a6ca', '\"Houdini was released on May 31st, 2024.\"': 'https://www.billboard.com/wp-content/uploads/2024/04/Eminem-2024-nfl-draft-billboard-1548.jpg?w=942&h=623&crop=1', '\"Hinting at the death of Slim Shady, Coup De Grace being his final album.\"': 'https://411mania.com/wp-content/uploads/2020/08/iyhburiedalive-e1705788127844-645x345.jpg'}\n"
     ]
    }
   ],
   "source": [
    "imgs_url = {}\n",
    "for key in descriptions:\n",
    "    # print(key)\n",
    "    # print(descriptions[key])\n",
    "    imgs_url[key] = get_first_image_url(descriptions[key], None)\n",
    "    # break\n",
    "print(imgs_url)"
   ]
  },
  {
   "cell_type": "code",
   "execution_count": null,
   "metadata": {},
   "outputs": [],
   "source": [
    "print(\"Images URL\")\n",
    "for key in imgs_url:\n",
    "    print(key)\n",
    "    print(imgs_url[key])"
   ]
  },
  {
   "cell_type": "markdown",
   "metadata": {},
   "source": [
    "## Create video from the pictures"
   ]
  },
  {
   "cell_type": "markdown",
   "metadata": {},
   "source": [
    "### Background Video"
   ]
  },
  {
   "cell_type": "code",
   "execution_count": null,
   "metadata": {},
   "outputs": [],
   "source": []
  },
  {
   "cell_type": "markdown",
   "metadata": {},
   "source": [
    "### Adding the audio"
   ]
  },
  {
   "cell_type": "markdown",
   "metadata": {},
   "source": [
    "### Adding the pictures"
   ]
  },
  {
   "cell_type": "code",
   "execution_count": null,
   "metadata": {},
   "outputs": [],
   "source": [
    "def get_sentence_timings(transcription, sentence):\n",
    "    \"\"\"\n",
    "    Returns the start and end timings of a sentence in a transcription object.\n",
    "\n",
    "    Args:\n",
    "    transcription (Transcription): The transcription object.\n",
    "    sentence (str): The sentence to search for.\n",
    "\n",
    "    Returns:\n",
    "    tuple: A tuple containing the start and end timings of the sentence.\n",
    "    \"\"\"\n",
    "    words = transcription.words\n",
    "    sentence_words = sentence.split()\n",
    "    sentence_start = None\n",
    "    sentence_end = None\n",
    "\n",
    "    i = 0\n",
    "    while i < len(words):\n",
    "        if words[i]['word'].lower() == sentence_words[0].lower():\n",
    "            j = 1\n",
    "            while j < len(sentence_words) and i + j < len(words) and words[i + j]['word'].lower() == sentence_words[j].lower():\n",
    "                j += 1\n",
    "            if j == len(sentence_words):\n",
    "                sentence_start = words[i]['start']\n",
    "                sentence_end = words[i + j - 1]['end']\n",
    "                break\n",
    "        i += 1\n",
    "\n",
    "    return sentence_start, sentence_end"
   ]
  }
 ],
 "metadata": {
  "kernelspec": {
   "display_name": "Python 3",
   "language": "python",
   "name": "python3"
  },
  "language_info": {
   "codemirror_mode": {
    "name": "ipython",
    "version": 3
   },
   "file_extension": ".py",
   "mimetype": "text/x-python",
   "name": "python",
   "nbconvert_exporter": "python",
   "pygments_lexer": "ipython3",
   "version": "3.11.4"
  }
 },
 "nbformat": 4,
 "nbformat_minor": 2
}
