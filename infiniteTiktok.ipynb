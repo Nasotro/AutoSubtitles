{
 "cells": [
  {
   "cell_type": "markdown",
   "metadata": {},
   "source": [
    "# Generate Infinite Tiktoks"
   ]
  },
  {
   "cell_type": "markdown",
   "metadata": {},
   "source": [
    "## Generate video text\n",
    "The first step to generate a tiktok, is obviously to know what you're going to stay.\n",
    "\n",
    "To do so, my idea was to find something in genius.com, the famous website to have extra information on rap/pop songs. You can have informations about the context of the song when it was released.\n"
   ]
  },
  {
   "cell_type": "code",
   "execution_count": 1,
   "metadata": {},
   "outputs": [],
   "source": [
    "import os\n",
    "import requests\n"
   ]
  },
  {
   "cell_type": "code",
   "execution_count": 2,
   "metadata": {},
   "outputs": [],
   "source": [
    "def get_annotation(annotation_id):\n",
    "    url = f\"https://api.genius.com/annotations/{annotation_id}\"\n",
    "    payload = {}\n",
    "    headers = {'Authorization': 'Bearer ' + os.environ['RAPGENIUS_API_KEY']}\n",
    "    r = requests.request(\"GET\", url, headers=headers, data=payload)\n",
    "    data = r.json()\n",
    "    \n",
    "    full_annotation = \"\"\n",
    "    parts = data['response']['annotation']['body']['dom']['children']\n",
    "\n",
    "    full_annotation = find_annotation(parts)\n",
    "    \n",
    "    return full_annotation\n",
    "def find_annotation(root):\n",
    "    # print(type(root))\n",
    "    full_annotation = \"\"\n",
    "    if(type(root) == str):\n",
    "        if(root == \"\"):\n",
    "            root = '\\n'\n",
    "        full_annotation += root\n",
    "    elif(type(root) == dict):\n",
    "        if('children' in root):\n",
    "            full_annotation += find_annotation(root['children'])\n",
    "    elif(type(root) == list):\n",
    "        for part in root:\n",
    "            full_annotation += find_annotation(part)\n",
    "    \n",
    "    return full_annotation\n",
    "def get_id_song(url):\n",
    "    response = requests.get(url).content\n",
    "    id = int(response.split(b'genius://songs/')[1].split(b'\"')[0])\n",
    "    return id\n",
    "def get_song_description(song_id):\n",
    "    url = f\"https://api.genius.com/songs/{song_id}\"\n",
    "\n",
    "    payload = {}\n",
    "    headers = {\n",
    "        'Authorization': 'Bearer ' + os.environ['RAPGENIUS_API_KEY']\n",
    "    }\n",
    "\n",
    "    response = requests.request(\"GET\", url, headers=headers, data=payload)\n",
    "    data = response.json()\n",
    "    return get_annotation(data['response']['song']['description_annotation']['id'])\n"
   ]
  },
  {
   "cell_type": "code",
   "execution_count": 3,
   "metadata": {},
   "outputs": [
    {
     "name": "stdout",
     "output_type": "stream",
     "text": [
      "“Houdini” is the lead single of Eminem’s twelfth studio album The Death of Slim Shady (Coup de Grâce). The track is named after Harry Houdini, a popular magician known for his death-defying stunts like the Chinese Water Torture Cell, which Eminem replicates in the intro to his 1999 track, “Role Model.”\n",
      "With the return of long-time collaborator Jeff Bass of the Bass Brothers, Eminem revisits his catchy albeit morbid sound of the early 2000s. This fanfare track sees him callback to his old catchphrases such as Shady’s iconic “Guess who’s back?” line from the 2002 track “Without Me.” The song heavily samples and interpolates the Steve Miller Band’s 1982 track “Abracadabra.”\n",
      "On October 24, 1926, the legendary Houdini tragically passed away in Detroit, Michigan at the age of 52. Interestingly, Detroit is also the hometown of Eminem, who turns 52 in October 2024.\n",
      "The single was first teased by Eminem on May 20, 2024, when he posted a teaser to his social media accounts with a text message from “All Contacts” stating, “…and for my last trick!” The text message also has the date of May 31, sparking rumors of Eminem releasing music on that day.\n",
      "On May 28, 2024, Eminem posted a video to Instagram of him on a FaceTime call with magician David Blaine. At the end of the video, he announced the release of “Houdini” on May 31, then closed out by stating “for my last trick, I’m gonna make my career disappear,” hinting at The Death of Slim Shady (Coup de Grâce) being his final album.\n"
     ]
    }
   ],
   "source": [
    "url = \"https://genius.com/Eminem-houdini-lyrics\"\n",
    "\n",
    "song_description = get_song_description(get_id_song(url))\n",
    "print(song_description)"
   ]
  },
  {
   "cell_type": "markdown",
   "metadata": {},
   "source": [
    "## Find pictures"
   ]
  },
  {
   "cell_type": "markdown",
   "metadata": {},
   "source": [
    "### Find picture descrition\n",
    "The idea I came up with is to ask a LLM (mistral in my case) to find some nice moments in the description of the song"
   ]
  },
  {
   "cell_type": "code",
   "execution_count": 24,
   "metadata": {},
   "outputs": [],
   "source": [
    "import os\n",
    "from mistralai.client import MistralClient\n",
    "from mistralai.models.chat_completion import ChatMessage\n",
    "\n",
    "def get_description_pictures(story):\n",
    "    api_key = os.environ[\"MISTRAL_API_KEY\"]\n",
    "    model = \"open-mistral-7b\"\n",
    "\n",
    "    client = MistralClient(api_key=api_key)\n",
    "\n",
    "    preprompt = \"\"\"Your job will be to write the visual of a tiktok video: the images that show on screen. You have to find some nice moments in the story to place pictures that will show on screen. Tell me when you choose an image of what. In this format:\n",
    "    DURING THE SENTENCE \"[place the full sentence here]\", SHOW AN IMAGE OF \"[place the description of the image]\".\n",
    "    Answer only with the descriptions of all the images. \n",
    "    You can set as many images as you want, and if a sentence needs more than one image, you can split the sentence in two or more parts.\n",
    "    Try not to give a description, but key words because i will look online for the exact same words you describe. That means if you are too complex, i will not be able to find the image.\n",
    "    \n",
    "    For example:\n",
    "    DURING THE SENTENCE \"he ate a sandwich\", SHOW AN IMAGE OF \"a sandwich\".\n",
    "\n",
    "    Now it is your turn:\n",
    "\n",
    "    STORY : \"\"\"\n",
    "\n",
    "    messages = [\n",
    "        ChatMessage(role=\"user\", content=preprompt + f'\"{story}\"'),\n",
    "    ]\n",
    "\n",
    "    chat_response = client.chat(\n",
    "        model=model,\n",
    "        messages=messages,\n",
    "    )\n",
    "\n",
    "    results = chat_response.choices[0].message.content\n",
    "\n",
    "    return results.split(\"\\n\\n\")\n",
    "def convert_to_dict(lines):\n",
    "    visual_dict = {}\n",
    "    for line in lines:\n",
    "        print(line)\n",
    "        if line:\n",
    "            sentence, image_desc = line.split(', SHOW AN IMAGE OF ', 1)\n",
    "            sentence = sentence.replace('DURING THE SENTENCE ', '', 1)\n",
    "            visual_dict[sentence] = image_desc\n",
    "    return visual_dict\n",
    "\n",
    "def get_pictures(story):\n",
    "    return convert_to_dict(get_description_pictures(story))\n"
   ]
  },
  {
   "cell_type": "code",
   "execution_count": 25,
   "metadata": {},
   "outputs": [
    {
     "name": "stdout",
     "output_type": "stream",
     "text": [
      "DURING THE SENTENCE \"Houdini, a popular magician known for his death-defying stunts like the Chinese Water Torture Cell\", SHOW AN IMAGE OF \"Chinese Water Torture Cell\".\n",
      "DURING THE SENTENCE \"Eminem replicates in the intro to his 1999 track, “Role Model,”\", SHOW AN IMAGE OF \"Eminem in the intro of Role Model (1999)\".\n",
      "DURING THE SENTENCE \"With the return of long-time collaborator Jeff Bass of the Bass Brothers\", SHOW AN IMAGE OF \"Jeff Bass and Eminem\".\n",
      "DURING THE SENTENCE \"The song heavily samples and interpolates the Steve Miller Band’s 1982 track “Abracadabra”\", SHOW AN IMAGE OF \"Steve Miller Band's Abracadabra album cover\".\n",
      "DURING THE SENTENCE \"On October 24, 1926, the legendary Houdini tragically passed away in Detroit, Michigan at the age of 52\", SHOW AN IMAGE OF \"Houdini's death scene or his grave\".\n",
      "DURING THE SENTENCE \"Interestingly, Detroit is also the hometown of Eminem, who turns 52 in October 2024\", SHOW AN IMAGE OF \"Detroit cityscape or Eminem in Detroit\".\n",
      "DURING THE SENTENCE \"The single was first teased by Eminem on May 20, 2024\", SHOW AN IMAGE OF \"Eminem's social media post teasing the single\".\n",
      "DURING THE SENTENCE \"On May 28, 2024, Eminem posted a video to Instagram of him on a FaceTime call with magician David Blaine\", SHOW AN IMAGE OF \"Eminem on FaceTime with David Blaine\".\n",
      "DURING THE SENTENCE \"At the end of the video, he announced the release of “Houdini” on May 31\", SHOW AN IMAGE OF \"Eminem announcing the release date\".\n",
      "DURING THE SENTENCE \"hinting at The Death of Slim Shady (Coup de Grâce) being his final album\", SHOW AN IMAGE OF \"Eminem's The Death of Slim Shady (Coup de Grâce) album cover\".\n",
      "{'\"Houdini, a popular magician known for his death-defying stunts like the Chinese Water Torture Cell\"': '\"Chinese Water Torture Cell\".', '\"Eminem replicates in the intro to his 1999 track, “Role Model,”\"': '\"Eminem in the intro of Role Model (1999)\".', '\"With the return of long-time collaborator Jeff Bass of the Bass Brothers\"': '\"Jeff Bass and Eminem\".', '\"The song heavily samples and interpolates the Steve Miller Band’s 1982 track “Abracadabra”\"': '\"Steve Miller Band\\'s Abracadabra album cover\".', '\"On October 24, 1926, the legendary Houdini tragically passed away in Detroit, Michigan at the age of 52\"': '\"Houdini\\'s death scene or his grave\".', '\"Interestingly, Detroit is also the hometown of Eminem, who turns 52 in October 2024\"': '\"Detroit cityscape or Eminem in Detroit\".', '\"The single was first teased by Eminem on May 20, 2024\"': '\"Eminem\\'s social media post teasing the single\".', '\"On May 28, 2024, Eminem posted a video to Instagram of him on a FaceTime call with magician David Blaine\"': '\"Eminem on FaceTime with David Blaine\".', '\"At the end of the video, he announced the release of “Houdini” on May 31\"': '\"Eminem announcing the release date\".', '\"hinting at The Death of Slim Shady (Coup de Grâce) being his final album\"': '\"Eminem\\'s The Death of Slim Shady (Coup de Grâce) album cover\".'}\n"
     ]
    }
   ],
   "source": [
    "descriptions = get_pictures(song_description)\n",
    "print(descriptions)"
   ]
  },
  {
   "cell_type": "markdown",
   "metadata": {},
   "source": [
    "### Generate or Find picture"
   ]
  },
  {
   "cell_type": "code",
   "execution_count": 26,
   "metadata": {},
   "outputs": [],
   "source": [
    "from google_images_search import GoogleImagesSearch\n",
    "\n",
    "def get_first_image_url(search_term, path_to_dir='images'):\n",
    "    search_term = search_term.replace('\"', '')\n",
    "    # print(search_term)\n",
    "    gis = GoogleImagesSearch(os.environ['GOOGLE_API_KEY'] , os.environ['GOOGLE_CX_KEY'])\n",
    "    _search_params = {\n",
    "        'q': search_term\n",
    "    }\n",
    "    gis.search(search_params=_search_params, path_to_dir=path_to_dir)\n",
    "\n",
    "    for result in gis.results():\n",
    "        return result.url\n",
    "\n",
    "    return None"
   ]
  },
  {
   "cell_type": "code",
   "execution_count": 28,
   "metadata": {},
   "outputs": [
    {
     "name": "stdout",
     "output_type": "stream",
     "text": [
      "\"Chinese Water Torture Cell\".\n",
      "Chinese Water Torture Cell.\n",
      "\"Eminem in the intro of Role Model (1999)\".\n",
      "Eminem in the intro of Role Model (1999).\n",
      "\"Jeff Bass and Eminem\".\n",
      "Jeff Bass and Eminem.\n",
      "\"Steve Miller Band's Abracadabra album cover\".\n",
      "Steve Miller Band's Abracadabra album cover.\n",
      "\"Houdini's death scene or his grave\".\n",
      "Houdini's death scene or his grave.\n",
      "\"Detroit cityscape or Eminem in Detroit\".\n",
      "Detroit cityscape or Eminem in Detroit.\n",
      "\"Eminem's social media post teasing the single\".\n",
      "Eminem's social media post teasing the single.\n",
      "\"Eminem on FaceTime with David Blaine\".\n",
      "Eminem on FaceTime with David Blaine.\n",
      "\"Eminem announcing the release date\".\n",
      "Eminem announcing the release date.\n",
      "\"Eminem's The Death of Slim Shady (Coup de Grâce) album cover\".\n",
      "Eminem's The Death of Slim Shady (Coup de Grâce) album cover.\n",
      "{'\"Houdini, a popular magician known for his death-defying stunts like the Chinese Water Torture Cell\"': 'https://upload.wikimedia.org/wikipedia/commons/e/e8/Houdini_performing_Water_Torture_Cell.jpg', '\"Eminem replicates in the intro to his 1999 track, “Role Model,”\"': 'https://i.ytimg.com/vi/ubEublECnMU/maxresdefault.jpg', '\"With the return of long-time collaborator Jeff Bass of the Bass Brothers\"': 'https://i.ytimg.com/vi/ZgSYaxyrbTI/mqdefault.jpg', '\"The song heavily samples and interpolates the Steve Miller Band’s 1982 track “Abracadabra”\"': 'https://upload.wikimedia.org/wikipedia/en/0/0c/AbracadabraSM.jpg', '\"On October 24, 1926, the legendary Houdini tragically passed away in Detroit, Michigan at the age of 52\"': 'https://www.mcgill.ca/oss/files/oss/styles/hd/public/houdini_0.jpg?itok=Ql0u_q0j&timestamp=1502831915', '\"Interestingly, Detroit is also the hometown of Eminem, who turns 52 in October 2024\"': 'https://www.visittheusa.com/sites/default/files/styles/hero_l/public/images/hero_media_image/2016-11/RutLNL.JPEG?h=e07dedd2&itok=pDAeIxFV', '\"The single was first teased by Eminem on May 20, 2024\"': 'https://www.vibe.com/wp-content/uploads/2024/05/Em-Blaine.png?w=910&h=511&crop=1', '\"On May 28, 2024, Eminem posted a video to Instagram of him on a FaceTime call with magician David Blaine\"': 'https://townsquare.media/site/812/files/2024/05/attachment-eminem-david-blaine1.jpg?w=780&q=75', '\"At the end of the video, he announced the release of “Houdini” on May 31\"': 'https://www.eminem.com/files/2022/07/Eminem_CurtainCall2_AlbumCover-scaled.jpg', '\"hinting at The Death of Slim Shady (Coup de Grâce) being his final album\"': 'https://images.genius.com/93a2e6a47a168080c985d3855f31b3ca.1000x563x1.png'}\n"
     ]
    }
   ],
   "source": [
    "imgs_url = {}\n",
    "for key in descriptions:\n",
    "    # print(key)\n",
    "    # print(descriptions[key])\n",
    "    imgs_url[key] = get_first_image_url(descriptions[key], None)\n",
    "    # break\n",
    "print(imgs_url)"
   ]
  },
  {
   "cell_type": "markdown",
   "metadata": {},
   "source": [
    "## Create video from the pictures"
   ]
  },
  {
   "cell_type": "code",
   "execution_count": null,
   "metadata": {},
   "outputs": [],
   "source": []
  }
 ],
 "metadata": {
  "kernelspec": {
   "display_name": "Python 3",
   "language": "python",
   "name": "python3"
  },
  "language_info": {
   "codemirror_mode": {
    "name": "ipython",
    "version": 3
   },
   "file_extension": ".py",
   "mimetype": "text/x-python",
   "name": "python",
   "nbconvert_exporter": "python",
   "pygments_lexer": "ipython3",
   "version": "3.11.4"
  }
 },
 "nbformat": 4,
 "nbformat_minor": 2
}
