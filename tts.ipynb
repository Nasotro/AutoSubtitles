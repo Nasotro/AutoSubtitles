{
 "cells": [
  {
   "cell_type": "markdown",
   "metadata": {},
   "source": [
    "## EDENAI"
   ]
  },
  {
   "cell_type": "code",
   "execution_count": 1,
   "metadata": {},
   "outputs": [],
   "source": [
    "import base64\n",
    "import json\n",
    "import requests\n",
    "import os\n",
    "\n",
    "def base64_to_mp3(audio_string, output_filename):\n",
    "    \"\"\"\n",
    "    Converts a Base64 encoded string representation of an audio file to an MP3 file.\n",
    "\n",
    "    Args:\n",
    "    audio_string (str): The Base64 encoded string representation of the audio file.\n",
    "    output_filename (str): The name of the output MP3 file.\n",
    "    \"\"\"\n",
    "    decoded_audio = base64.b64decode(audio_string)\n",
    "\n",
    "    with open(output_filename, 'wb') as f:\n",
    "        f.write(decoded_audio)  \n",
    "        \n",
    "def text_to_speech_mp3(text, output_filename, language='en-US', option='MALE'):\n",
    "    \"\"\"\n",
    "    Converts a text string to speech using the Eden AI API and writes the resulting audio to an MP3 file.\n",
    "\n",
    "    Args:\n",
    "    text (str): The text string to convert to speech.\n",
    "    output_filename (str): The name of the output MP3 file.\n",
    "    api_key (str): Your Eden AI API key.\n",
    "    language (str): The language code for the speech synthesis. Defaults to 'en-US'.\n",
    "    option (str): The voice option for the speech synthesis. Defaults to 'MALE'.\n",
    "    \"\"\"\n",
    "    api_key = os.environ.get('EDENAI_API_KEY')\n",
    "    headers = {\"Authorization\": f\"Bearer {api_key}\"}\n",
    "    url = \"https://api.edenai.run/v2/audio/text_to_speech\"\n",
    "    payload = {\n",
    "        \"providers\": \"google\",\n",
    "        \"language\": language,\n",
    "        \"option\": option,\n",
    "        \"text\": text,\n",
    "    }\n",
    "\n",
    "    response = requests.post(url, json=payload, headers=headers)\n",
    "    result = json.loads(response.text)\n",
    "    # print(result)\n",
    "    audio_string = result['google']['audio']\n",
    "    print('cost : ',result['google']['cost'])\n",
    "    decoded_audio = base64.b64decode(audio_string)\n",
    "\n",
    "    with open(output_filename, 'wb') as f:\n",
    "        f.write(decoded_audio)"
   ]
  },
  {
   "cell_type": "code",
   "execution_count": 2,
   "metadata": {},
   "outputs": [
    {
     "name": "stdout",
     "output_type": "stream",
     "text": [
      "cost :  0.004848\n"
     ]
    }
   ],
   "source": [
    "text = \"“Houdini” is the lead single of Eminem’s twelfth studio album The Death of Slim Shady (Coup de Grâce). The track is named after Harry Houdini, a popular magician known for his death-defying stunts like the Chinese Water Torture Cell, which Eminem replicates in the intro to his 1999 track, “Role Model.”\"\n",
    "text_to_speech_mp3(text, \"output_tts.mp3\")"
   ]
  },
  {
   "cell_type": "markdown",
   "metadata": {},
   "source": [
    "## times of words"
   ]
  },
  {
   "cell_type": "code",
   "execution_count": 3,
   "metadata": {},
   "outputs": [
    {
     "name": "stdout",
     "output_type": "stream",
     "text": [
      "{'error': {'type': 'Invalid request', 'message': {'providers': [\"No such provider 'OpenAI' for 'audio.speech_to_text_async'\"]}}}\n"
     ]
    }
   ],
   "source": [
    "import json\n",
    "import requests\n",
    "\n",
    "headers = {\"Authorization\": f\"Bearer {os.environ.get('EDENAI_API_KEY')}\"}\n",
    "\n",
    "url = \"https://api.edenai.run/v2/audio/speech_to_text_async\"\n",
    "data = {\n",
    "    \"providers\": \"OpenAI\",\n",
    "    \"language\": \"en-US\",\n",
    "}\n",
    "\n",
    "files = {'file': open(\"audio1.mp3\", 'rb')}\n",
    "\n",
    "response = requests.post(url, data=data, files=files, headers=headers)\n",
    "result = json.loads(response.text)\n",
    "print(result)\n"
   ]
  },
  {
   "cell_type": "code",
   "execution_count": null,
   "metadata": {},
   "outputs": [],
   "source": []
  },
  {
   "cell_type": "markdown",
   "metadata": {},
   "source": [
    "# OPEN AI"
   ]
  },
  {
   "cell_type": "markdown",
   "metadata": {},
   "source": [
    "## TTS"
   ]
  },
  {
   "cell_type": "code",
   "execution_count": 4,
   "metadata": {},
   "outputs": [],
   "source": [
    "from openai import OpenAI\n",
    "\n",
    "api_key = os.environ.get('OPENAI_API_KEY_LORRAIN')\n",
    "client = OpenAI(api_key=api_key)\n",
    "\n",
    "def text_to_speech_mp3(text, output_filename, model=\"tts-1\", voice=\"alloy\"):\n",
    "    \"\"\"\n",
    "    Converts a text string to speech using the OpenAI API and writes the resulting audio to an MP3 file.\n",
    "\n",
    "    Args:\n",
    "    text (str): The text string to convert to speech.\n",
    "    output_filename (str): The name of the output MP3 file.\n",
    "    model (str): The model to use for speech synthesis. Defaults to 'tts-1'.\n",
    "    voice (str): The voice to use for speech synthesis. Defaults to 'alloy'.\n",
    "    \"\"\"\n",
    "    global client\n",
    "    client = OpenAI(api_key=os.environ.get('OPENAI_API_KEY_LORRAIN')) if client is None else client\n",
    "    speech_file_path = output_filename\n",
    "\n",
    "\n",
    "    with client.audio.speech.with_streaming_response.create(\n",
    "        model=model,\n",
    "        voice=voice,\n",
    "        input=text,\n",
    "    ) as response:\n",
    "        response.stream_to_file(speech_file_path+('.mp3' if not speech_file_path.endswith('.mp3') else ''))\n"
   ]
  },
  {
   "cell_type": "code",
   "execution_count": 5,
   "metadata": {},
   "outputs": [],
   "source": [
    "original_text = \"Today is a wonderful day to build something people love! Today is a beautiful day\"\n",
    "text_to_speech_mp3(original_text, \"output_tts.mp3\")"
   ]
  },
  {
   "cell_type": "markdown",
   "metadata": {},
   "source": [
    "## Times of the text "
   ]
  },
  {
   "cell_type": "code",
   "execution_count": 6,
   "metadata": {},
   "outputs": [],
   "source": [
    "from openai import OpenAI\n",
    "import os\n",
    "\n",
    "def getTextTimingsOfMp3(mp3file):\n",
    "    global client\n",
    "    client = OpenAI(api_key=os.environ.get('OPENAI_API_KEY_LORRAIN')) if client is None else client\n",
    "    \n",
    "    audio_file = open(mp3file, \"rb\")\n",
    "    transcript = client.audio.transcriptions.create(\n",
    "        file=audio_file,\n",
    "        model=\"whisper-1\",\n",
    "        response_format=\"verbose_json\",\n",
    "        timestamp_granularities=[\"word\"]\n",
    "    )\n",
    "\n",
    "    return transcript\n",
    "\n"
   ]
  },
  {
   "cell_type": "code",
   "execution_count": 7,
   "metadata": {},
   "outputs": [
    {
     "name": "stdout",
     "output_type": "stream",
     "text": [
      "Transcription(text='Today is a wonderful day to build something people love. Today is a beautiful day.', task='transcribe', language='english', duration=4.820000171661377, words=[{'word': 'Today', 'start': 0.0, 'end': 0.3400000035762787}, {'word': 'is', 'start': 0.3400000035762787, 'end': 0.5600000023841858}, {'word': 'a', 'start': 0.5600000023841858, 'end': 0.6800000071525574}, {'word': 'wonderful', 'start': 0.6800000071525574, 'end': 0.9800000190734863}, {'word': 'day', 'start': 0.9800000190734863, 'end': 1.2599999904632568}, {'word': 'to', 'start': 1.2599999904632568, 'end': 1.440000057220459}, {'word': 'build', 'start': 1.440000057220459, 'end': 1.6200000047683716}, {'word': 'something', 'start': 1.6200000047683716, 'end': 2.059999942779541}, {'word': 'people', 'start': 2.059999942779541, 'end': 2.4000000953674316}, {'word': 'love', 'start': 2.4000000953674316, 'end': 2.759999990463257}, {'word': 'Today', 'start': 3.4200000762939453, 'end': 3.5999999046325684}, {'word': 'is', 'start': 3.5999999046325684, 'end': 3.8399999141693115}, {'word': 'a', 'start': 3.8399999141693115, 'end': 3.9800000190734863}, {'word': 'beautiful', 'start': 3.9800000190734863, 'end': 4.28000020980835}, {'word': 'day', 'start': 4.28000020980835, 'end': 4.579999923706055}])\n"
     ]
    }
   ],
   "source": [
    "text = getTextTimingsOfMp3(\"output_tts.mp3\")\n",
    "print(text)"
   ]
  },
  {
   "cell_type": "code",
   "execution_count": 8,
   "metadata": {},
   "outputs": [
    {
     "name": "stdout",
     "output_type": "stream",
     "text": [
      "Today is a wonderful day to build something people love. Today is a beautiful day.\n",
      "Today is a wonderful day to build something people love! Today is a beautiful day\n",
      "1\n"
     ]
    }
   ],
   "source": [
    "def verify_transcription(original_text, transcription):\n",
    "    \"\"\"\n",
    "    Verifies that the text is the same after the tts and stt.\n",
    "\n",
    "    Args:\n",
    "    original_text (str): The original text.\n",
    "    transcription (dict): The transcription dictionary.\n",
    "\n",
    "    Returns:\n",
    "    int: ratio of the original text and the transcription text.\n",
    "    \"\"\"\n",
    "    print(transcription.text)\n",
    "    print(original_text)\n",
    "    transcription_text = transcription.text.lower().replace('!', '').replace('.', '').replace(',', '').replace('?', '')\n",
    "    original_text = original_text.lower().replace('!', '').replace('.', '').replace(',', '').replace('?', '')\n",
    "    \n",
    "    if transcription_text == original_text:\n",
    "        return 1\n",
    "    \n",
    "    # correct_words = 0\n",
    "    for word in original_text.split():\n",
    "        transcription_text = transcription_text.replace(word, '', 1)\n",
    "#\n",
    "    return 1 - len(transcription_text) / len(original_text)\n",
    "\n",
    "print(verify_transcription(original_text, text))"
   ]
  },
  {
   "cell_type": "code",
   "execution_count": 9,
   "metadata": {},
   "outputs": [],
   "source": [
    "def get_sentence_timings(transcription, sentence):\n",
    "    \"\"\"\n",
    "    Returns the start and end timings of a sentence in a transcription object.\n",
    "\n",
    "    Args:\n",
    "    transcription (Transcription): The transcription object.\n",
    "    sentence (str): The sentence to search for.\n",
    "\n",
    "    Returns:\n",
    "    tuple: A tuple containing the start and end timings of the sentence.\n",
    "    \"\"\"\n",
    "    words = transcription.words\n",
    "    sentence_words = sentence.split()\n",
    "    sentence_start = None\n",
    "    sentence_end = None\n",
    "\n",
    "    i = 0\n",
    "    while i < len(words):\n",
    "        if words[i]['word'].lower() == sentence_words[0].lower():\n",
    "            j = 1\n",
    "            while j < len(sentence_words) and i + j < len(words) and words[i + j]['word'].lower() == sentence_words[j].lower():\n",
    "                j += 1\n",
    "            if j == len(sentence_words):\n",
    "                sentence_start = words[i]['start']\n",
    "                sentence_end = words[i + j - 1]['end']\n",
    "                break\n",
    "        i += 1\n",
    "\n",
    "    return sentence_start, sentence_end"
   ]
  },
  {
   "cell_type": "code",
   "execution_count": 13,
   "metadata": {},
   "outputs": [
    {
     "name": "stdout",
     "output_type": "stream",
     "text": [
      "Transcription(text='Today is a wonderful day to build something people love. Today is a beautiful day.', task='transcribe', language='english', duration=4.820000171661377, words=[{'word': 'Today', 'start': 0.0, 'end': 0.3400000035762787}, {'word': 'is', 'start': 0.3400000035762787, 'end': 0.5600000023841858}, {'word': 'a', 'start': 0.5600000023841858, 'end': 0.6800000071525574}, {'word': 'wonderful', 'start': 0.6800000071525574, 'end': 0.9800000190734863}, {'word': 'day', 'start': 0.9800000190734863, 'end': 1.2599999904632568}, {'word': 'to', 'start': 1.2599999904632568, 'end': 1.440000057220459}, {'word': 'build', 'start': 1.440000057220459, 'end': 1.6200000047683716}, {'word': 'something', 'start': 1.6200000047683716, 'end': 2.059999942779541}, {'word': 'people', 'start': 2.059999942779541, 'end': 2.4000000953674316}, {'word': 'love', 'start': 2.4000000953674316, 'end': 2.759999990463257}, {'word': 'Today', 'start': 3.4200000762939453, 'end': 3.5999999046325684}, {'word': 'is', 'start': 3.5999999046325684, 'end': 3.8399999141693115}, {'word': 'a', 'start': 3.8399999141693115, 'end': 3.9800000190734863}, {'word': 'beautiful', 'start': 3.9800000190734863, 'end': 4.28000020980835}, {'word': 'day', 'start': 4.28000020980835, 'end': 4.579999923706055}])\n",
      "Sentence start: 3.4200000762939453, sentence end: 4.579999923706055\n"
     ]
    }
   ],
   "source": [
    "print(text)\n",
    "sentence_start, sentence_end = get_sentence_timings(text, \"Today is a beautiful day\")\n",
    "print(f\"Sentence start: {sentence_start}, sentence end: {sentence_end}\")"
   ]
  }
 ],
 "metadata": {
  "kernelspec": {
   "display_name": "Python 3",
   "language": "python",
   "name": "python3"
  },
  "language_info": {
   "codemirror_mode": {
    "name": "ipython",
    "version": 3
   },
   "file_extension": ".py",
   "mimetype": "text/x-python",
   "name": "python",
   "nbconvert_exporter": "python",
   "pygments_lexer": "ipython3",
   "version": "3.11.4"
  }
 },
 "nbformat": 4,
 "nbformat_minor": 2
}
