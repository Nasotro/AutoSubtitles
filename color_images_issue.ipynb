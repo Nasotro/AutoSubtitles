{
 "cells": [
  {
   "cell_type": "markdown",
   "metadata": {},
   "source": [
    "# Try to fix the error with the black and white images"
   ]
  },
  {
   "cell_type": "code",
   "execution_count": 1,
   "metadata": {},
   "outputs": [],
   "source": [
    "from moviepy.editor import ImageClip, CompositeVideoClip, VideoFileClip, concatenate_videoclips"
   ]
  },
  {
   "cell_type": "code",
   "execution_count": 2,
   "metadata": {},
   "outputs": [],
   "source": [
    "def add_multiple_images_to_video(input_video_path, output_video_path, images, timings):\n",
    "    print(f\"Adding {len(images)} images to the video\")\n",
    "    print(f\"Images : {images}\")\n",
    "    print(f\"Timings : {timings}\")\n",
    "    \n",
    "    images = images.copy()\n",
    "    clip = VideoFileClip(input_video_path, audio=False)\n",
    "    clips = []\n",
    "    offset = 0\n",
    "    \n",
    "    for start_time, end_time in timings:\n",
    "        if start_time == None or end_time == None:\n",
    "            print(\"Could not find timings\")\n",
    "            continue\n",
    "        print(f\"Adding image {images[0]} from {start_time} to {end_time}\")\n",
    "        # print(len(images))\n",
    "        clip_before = clip.subclip(0, start_time-offset)\n",
    "        clip_with_image = clip.subclip(start_time-offset, end_time-offset)\n",
    "        clip_after = clip.subclip(end_time-offset, clip.duration)\n",
    "        offset += clip_before.duration + clip_with_image.duration\n",
    "        \n",
    "        image_clip = ImageClip(images.pop(0))\n",
    "        image_clip = image_clip.resize(width=clip.w/2, height=clip.h/2)\n",
    "        image_clip = image_clip.set_pos(('center', 'center'))\n",
    "        image_clip = image_clip.set_start(0).set_duration(clip_with_image.duration)\n",
    "\n",
    "        final_clip_middle = CompositeVideoClip([clip_with_image, image_clip])\n",
    "\n",
    "        final_clip = concatenate_videoclips([clip_before, final_clip_middle])\n",
    "\n",
    "        clip = clip_after\n",
    "        \n",
    "        clips.append(final_clip)\n",
    "\n",
    "    clips.append(clip)\n",
    "    final_clip = concatenate_videoclips(clips, method=\"chain\")\n",
    "\n",
    "    # Save the video\n",
    "    final_clip.write_videofile(output_video_path)"
   ]
  },
  {
   "cell_type": "code",
   "execution_count": 4,
   "metadata": {},
   "outputs": [
    {
     "name": "stdout",
     "output_type": "stream",
     "text": [
      "Adding 2 images to the video\n",
      "Images : ['images/tests/imageCouleur.jpg', 'images/tests/imagenoiretblanc.jpg']\n",
      "Timings : [(0, 5), (5, 10)]\n",
      "Adding image images/tests/imageCouleur.jpg from 0 to 5\n",
      "Adding image images/tests/imagenoiretblanc.jpg from 5 to 10\n",
      "Moviepy - Building video videos/tests/output.mp4.\n",
      "Moviepy - Writing video videos/tests/output.mp4\n",
      "\n"
     ]
    },
    {
     "name": "stderr",
     "output_type": "stream",
     "text": [
      "                                                              \r"
     ]
    },
    {
     "name": "stdout",
     "output_type": "stream",
     "text": [
      "Moviepy - Done !\n",
      "Moviepy - video ready videos/tests/output.mp4\n"
     ]
    }
   ],
   "source": [
    "add_multiple_images_to_video(\"videos/tests/input.mp4\", \"videos/tests/output.mp4\", [\"images/tests/imageCouleur.jpg\", \"images/tests/imagenoiretblanc.jpg\"], [(0, 1), (2, 3)])"
   ]
  },
  {
   "cell_type": "code",
   "execution_count": null,
   "metadata": {},
   "outputs": [],
   "source": []
  }
 ],
 "metadata": {
  "kernelspec": {
   "display_name": "Python 3",
   "language": "python",
   "name": "python3"
  },
  "language_info": {
   "codemirror_mode": {
    "name": "ipython",
    "version": 3
   },
   "file_extension": ".py",
   "mimetype": "text/x-python",
   "name": "python",
   "nbconvert_exporter": "python",
   "pygments_lexer": "ipython3",
   "version": "3.11.4"
  }
 },
 "nbformat": 4,
 "nbformat_minor": 2
}
