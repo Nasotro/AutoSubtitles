{
 "cells": [
  {
   "cell_type": "code",
   "execution_count": 6,
   "metadata": {},
   "outputs": [
    {
     "name": "stdout",
     "output_type": "stream",
     "text": [
      "Moviepy - Building video output_video.mp4.\n",
      "Moviepy - Writing video output_video.mp4\n",
      "\n"
     ]
    },
    {
     "name": "stderr",
     "output_type": "stream",
     "text": [
      "                                                              \r"
     ]
    },
    {
     "name": "stdout",
     "output_type": "stream",
     "text": [
      "Moviepy - Done !\n",
      "Moviepy - video ready output_video.mp4\n"
     ]
    }
   ],
   "source": [
    "from moviepy.editor import ImageSequenceClip\n",
    "import os\n",
    "\n",
    "import os\n",
    "\n",
    "def remove_suffix(folder_path, suffix):\n",
    "    files = os.listdir(folder_path)\n",
    "    for file in files:\n",
    "        if os.path.isfile(os.path.join(folder_path, file)):\n",
    "            file_name, file_ext = os.path.splitext(file)\n",
    "            if file_name.endswith(suffix):\n",
    "                new_file_name = file_name[:-len(suffix)] + file_ext\n",
    "                os.rename(os.path.join(folder_path, file), os.path.join(folder_path, new_file_name))\n",
    "\n",
    "# Example usage\n",
    "folder_path = 'images\\\\frames'\n",
    "suffix = '_delay'\n",
    "remove_suffix(folder_path, suffix)\n",
    "\n",
    "images_list = [os.path.join('images\\\\frames', frame) for frame in os.listdir('images\\\\frames')] # your images list\n",
    "clip = ImageSequenceClip(images_list, fps=60)  # fps: frames per second\n",
    "clip.write_videofile(\"output_video.mp4\")"
   ]
  }
 ],
 "metadata": {
  "kernelspec": {
   "display_name": "Python 3",
   "language": "python",
   "name": "python3"
  },
  "language_info": {
   "codemirror_mode": {
    "name": "ipython",
    "version": 3
   },
   "file_extension": ".py",
   "mimetype": "text/x-python",
   "name": "python",
   "nbconvert_exporter": "python",
   "pygments_lexer": "ipython3",
   "version": "3.11.4"
  }
 },
 "nbformat": 4,
 "nbformat_minor": 2
}
