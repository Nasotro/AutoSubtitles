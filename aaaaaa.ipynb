{
 "cells": [
  {
   "cell_type": "code",
   "execution_count": null,
   "metadata": {},
   "outputs": [],
   "source": [
    "from Animations import MoveAnimation\n",
    "from moviepy.editor import ImageSequenceClip, ImageClip, CompositeVideoClip, VideoFileClip, concatenate_videoclips\n",
    "\n",
    "import os"
   ]
  },
  {
   "cell_type": "code",
   "execution_count": 1,
   "metadata": {},
   "outputs": [],
   "source": [
    "\n",
    "def remove_suffix(folder_path, suffix):\n",
    "    files = os.listdir(folder_path)\n",
    "    for file in files:\n",
    "        if os.path.isfile(os.path.join(folder_path, file)):\n",
    "            file_name, file_ext = os.path.splitext(file)\n",
    "            if file_name.endswith(suffix):\n",
    "                new_file_name = file_name[:-len(suffix)] + file_ext\n",
    "                os.rename(os.path.join(folder_path, file), os.path.join(folder_path, new_file_name))\n",
    "\n",
    "# Example usage\n",
    "frame_path = 'images\\\\frames'\n",
    "suffix = '_delay'\n",
    "remove_suffix(frame_path, suffix)"
   ]
  },
  {
   "cell_type": "markdown",
   "metadata": {},
   "source": [
    "## Having fun with videos editing"
   ]
  },
  {
   "cell_type": "markdown",
   "metadata": {},
   "source": [
    "### frames to video"
   ]
  },
  {
   "cell_type": "code",
   "execution_count": 2,
   "metadata": {},
   "outputs": [
    {
     "name": "stdout",
     "output_type": "stream",
     "text": [
      "Moviepy - Building video output_video.mp4.\n",
      "Moviepy - Writing video output_video.mp4\n",
      "\n"
     ]
    },
    {
     "name": "stderr",
     "output_type": "stream",
     "text": [
      "                                                               \r"
     ]
    },
    {
     "name": "stdout",
     "output_type": "stream",
     "text": [
      "Moviepy - Done !\n",
      "Moviepy - video ready output_video.mp4\n"
     ]
    }
   ],
   "source": [
    "\n",
    "images_list = [os.path.join('images\\\\frames', frame) for frame in os.listdir('images\\\\frames')] # your images list\n",
    "clip = ImageSequenceClip(images_list, fps=24)  # fps: frames per second\n",
    "clip.write_videofile(\"output_video.mp4\")"
   ]
  },
  {
   "cell_type": "code",
   "execution_count": 3,
   "metadata": {},
   "outputs": [
    {
     "name": "stdout",
     "output_type": "stream",
     "text": [
      "Moviepy - Building video mecquidanse.mp4.\n",
      "Moviepy - Writing video mecquidanse.mp4\n",
      "\n"
     ]
    },
    {
     "name": "stderr",
     "output_type": "stream",
     "text": [
      "                                                               \r"
     ]
    },
    {
     "name": "stdout",
     "output_type": "stream",
     "text": [
      "Moviepy - Done !\n",
      "Moviepy - video ready mecquidanse.mp4\n"
     ]
    }
   ],
   "source": [
    "def create_video_from_frames(frame_path, output_video_path, fps):\n",
    "    images_list = [os.path.join(frame_path, frame) for frame in os.listdir(frame_path)]\n",
    "    clip = ImageSequenceClip(images_list, fps=fps)\n",
    "    clip.write_videofile(output_video_path)\n",
    "\n",
    "create_video_from_frames('images\\\\frames', 'mecquidanse.mp4', 24)"
   ]
  },
  {
   "cell_type": "markdown",
   "metadata": {},
   "source": [
    "### add picture overlay "
   ]
  },
  {
   "cell_type": "code",
   "execution_count": 4,
   "metadata": {},
   "outputs": [
    {
     "name": "stdout",
     "output_type": "stream",
     "text": [
      "Moviepy - Building video my_edited_video.mp4.\n",
      "Moviepy - Writing video my_edited_video.mp4\n",
      "\n"
     ]
    },
    {
     "name": "stderr",
     "output_type": "stream",
     "text": [
      "                                                               \r"
     ]
    },
    {
     "name": "stdout",
     "output_type": "stream",
     "text": [
      "Moviepy - Done !\n",
      "Moviepy - video ready my_edited_video.mp4\n"
     ]
    }
   ],
   "source": [
    "\n",
    "images_list = [os.path.join('images\\\\frames', frame) for frame in os.listdir('images\\\\frames')]\n",
    "clip = ImageSequenceClip(images_list, fps=20)\n",
    "\n",
    "# Load the image to be added\n",
    "image_clip = ImageClip(\"jai_peur.png\").set_start(0).set_duration(3)\n",
    "\n",
    "# Resize and position the image in the middle of the screen\n",
    "image_clip = image_clip.resize(width=clip.w/2, height=clip.h/2)\n",
    "x = (clip.w - image_clip.w) / 2\n",
    "y = (clip.h - image_clip.h) / 2\n",
    "image_clip = image_clip.set_pos((x, y))\n",
    "\n",
    "# Overlay the image on the video\n",
    "final_clip = CompositeVideoClip([clip, image_clip])\n",
    "\n",
    "# Save the video\n",
    "final_clip.write_videofile(\"my_edited_video.mp4\")"
   ]
  },
  {
   "cell_type": "code",
   "execution_count": 5,
   "metadata": {},
   "outputs": [],
   "source": [
    "def add_image_to_video(input_video_path, output_video_path, image_path, start_time = 0, duration = -1, x_pos = 0, y_pos=0, width=-1, height=-1):\n",
    "    clip = VideoFileClip(input_video_path)\n",
    "\n",
    "    if(duration == -1):\n",
    "        duration = clip.duration - start_time\n",
    "    if(width == -1):\n",
    "        width = clip.w\n",
    "    if(height == -1):\n",
    "        height = clip.h\n",
    "    \n",
    "    \n",
    "\n",
    "    # Split the video into three parts\n",
    "    clip_before = clip.subclip(0, start_time)\n",
    "    clip_middle = clip.subclip(start_time, start_time + duration)\n",
    "    clip_after = clip.subclip(start_time + duration, clip.duration)\n",
    "\n",
    "    image_clip = ImageClip(image_path)\n",
    "    image_clip = image_clip.resize(width=width, height=height)\n",
    "    image_clip = image_clip.set_pos((x_pos, y_pos))\n",
    "\n",
    "    image_clip = image_clip.set_start(0).set_duration(clip_middle.duration)\n",
    "\n",
    "    final_clip_middle = CompositeVideoClip([clip_middle, image_clip])\n",
    "\n",
    "    final_clip = concatenate_videoclips([clip_before, final_clip_middle, clip_after])\n",
    "\n",
    "    # Save the video\n",
    "    final_clip.write_videofile(output_video_path)"
   ]
  },
  {
   "cell_type": "code",
   "execution_count": 6,
   "metadata": {},
   "outputs": [
    {
     "name": "stdout",
     "output_type": "stream",
     "text": [
      "Moviepy - Building video mecquidanse_with_image.mp4.\n",
      "Moviepy - Writing video mecquidanse_with_image.mp4\n",
      "\n"
     ]
    },
    {
     "name": "stderr",
     "output_type": "stream",
     "text": [
      "                                                               \r"
     ]
    },
    {
     "name": "stdout",
     "output_type": "stream",
     "text": [
      "Moviepy - Done !\n",
      "Moviepy - video ready mecquidanse_with_image.mp4\n"
     ]
    }
   ],
   "source": [
    "add_image_to_video('mecquidanse.mp4', 'mecquidanse_with_image.mp4', 'jai_peur.png', 3, 2, 0, 0, 160, 90)"
   ]
  },
  {
   "cell_type": "code",
   "execution_count": 9,
   "metadata": {},
   "outputs": [
    {
     "name": "stdout",
     "output_type": "stream",
     "text": [
      "fps: 24.0, duration: 5.25, size: [260, 200]\n"
     ]
    }
   ],
   "source": [
    "danse = VideoFileClip('mecquidanse.mp4')\n",
    "print(f'fps: {danse.fps}, duration: {danse.duration}, size: {danse.size}')"
   ]
  },
  {
   "cell_type": "markdown",
   "metadata": {},
   "source": [
    "### animate Image\n",
    "#### Move"
   ]
  },
  {
   "cell_type": "code",
   "execution_count": 11,
   "metadata": {},
   "outputs": [],
   "source": [
    "from Animations import MoveAnimation\n",
    "\n",
    "def animate_image(input_video_path, output_video_path, image_path, anim: MoveAnimation):\n",
    "    clip = VideoFileClip(input_video_path)\n",
    "\n",
    "    \n",
    "    \n",
    "    if(anim.duration == -1):\n",
    "        anim.duration = clip.duration - anim.start_time\n",
    "    if(anim.start_size == (-1,-1)):\n",
    "        anim.start_size = (clip.w, clip.h)\n",
    "    if(anim.end_size == (-1,-1)):\n",
    "        anim.end_size = (clip.w, clip.h)\n",
    "    \n",
    "    \n",
    "\n",
    "    # Split the video into three parts\n",
    "    clip_before = clip.subclip(0, anim.start_time)\n",
    "    clip_middle = clip.subclip(anim.start_time, anim.start_time + anim.duration)\n",
    "    clip_after = clip.subclip(anim.start_time + anim.duration, clip.duration)\n",
    "\n",
    "    image_clip = ImageClip(image_path)\n",
    "    image_clip.fps = clip.fps\n",
    "    image_clip = image_clip.resize(anim.start_size)\n",
    "    image_clip = image_clip.set_pos(anim.start_pos)\n",
    "\n",
    "    \n",
    "    image_clip = image_clip.set_start(0).set_duration(clip_middle.duration)\n",
    "\n",
    "    move_func = lambda t: anim.get_pos(t)\n",
    "    image_clip = image_clip.set_position(move_func)\n",
    "    \n",
    "    size_func = lambda t: anim.get_size(t)\n",
    "    image_clip = image_clip.resize(size_func)\n",
    "    \n",
    "    final_clip_middle = CompositeVideoClip([clip_middle, image_clip])\n",
    "    final_clip = concatenate_videoclips([clip_before, final_clip_middle, clip_after])\n",
    "\n",
    "    # Save the video\n",
    "    final_clip.write_videofile(output_video_path)"
   ]
  },
  {
   "cell_type": "code",
   "execution_count": 12,
   "metadata": {},
   "outputs": [
    {
     "ename": "ZeroDivisionError",
     "evalue": "division by zero",
     "output_type": "error",
     "traceback": [
      "\u001b[1;31m---------------------------------------------------------------------------\u001b[0m",
      "\u001b[1;31mZeroDivisionError\u001b[0m                         Traceback (most recent call last)",
      "Cell \u001b[1;32mIn[12], line 3\u001b[0m\n\u001b[0;32m      1\u001b[0m moveAnim \u001b[38;5;241m=\u001b[39m MoveAnimation(\u001b[38;5;241m3\u001b[39m, \u001b[38;5;241m2\u001b[39m, (\u001b[38;5;241m0\u001b[39m, \u001b[38;5;241m0\u001b[39m), (\u001b[38;5;241m160\u001b[39m, \u001b[38;5;241m90\u001b[39m))\n\u001b[1;32m----> 3\u001b[0m \u001b[43manimate_image\u001b[49m\u001b[43m(\u001b[49m\u001b[38;5;124;43m'\u001b[39;49m\u001b[38;5;124;43mmecquidanse.mp4\u001b[39;49m\u001b[38;5;124;43m'\u001b[39;49m\u001b[43m,\u001b[49m\u001b[43m \u001b[49m\u001b[38;5;124;43m'\u001b[39;49m\u001b[38;5;124;43mmecquidanse_with_image.mp4\u001b[39;49m\u001b[38;5;124;43m'\u001b[39;49m\u001b[43m,\u001b[49m\u001b[43m \u001b[49m\u001b[38;5;124;43m'\u001b[39;49m\u001b[38;5;124;43mjai_peur.png\u001b[39;49m\u001b[38;5;124;43m'\u001b[39;49m\u001b[43m,\u001b[49m\u001b[43m \u001b[49m\u001b[43mmoveAnim\u001b[49m\u001b[43m)\u001b[49m\n",
      "Cell \u001b[1;32mIn[11], line 34\u001b[0m, in \u001b[0;36manimate_image\u001b[1;34m(input_video_path, output_video_path, image_path, anim)\u001b[0m\n\u001b[0;32m     31\u001b[0m image_clip \u001b[38;5;241m=\u001b[39m image_clip\u001b[38;5;241m.\u001b[39mset_position(move_func)\n\u001b[0;32m     33\u001b[0m size_func \u001b[38;5;241m=\u001b[39m \u001b[38;5;28;01mlambda\u001b[39;00m t: anim\u001b[38;5;241m.\u001b[39mget_size(t)\n\u001b[1;32m---> 34\u001b[0m image_clip \u001b[38;5;241m=\u001b[39m \u001b[43mimage_clip\u001b[49m\u001b[38;5;241;43m.\u001b[39;49m\u001b[43mresize\u001b[49m\u001b[43m(\u001b[49m\u001b[43msize_func\u001b[49m\u001b[43m)\u001b[49m\n\u001b[0;32m     36\u001b[0m final_clip_middle \u001b[38;5;241m=\u001b[39m CompositeVideoClip([clip_middle, image_clip])\n\u001b[0;32m     37\u001b[0m final_clip \u001b[38;5;241m=\u001b[39m concatenate_videoclips([clip_before, final_clip_middle, clip_after])\n",
      "File \u001b[1;32mc:\\Users\\lorra\\AppData\\Local\\Programs\\Python\\Python311\\Lib\\site-packages\\moviepy\\video\\fx\\resize.py:116\u001b[0m, in \u001b[0;36mresize\u001b[1;34m(clip, newsize, height, width, apply_to_mask)\u001b[0m\n\u001b[0;32m    111\u001b[0m     \u001b[38;5;28;01melse\u001b[39;00m:\n\u001b[0;32m    113\u001b[0m         fun \u001b[38;5;241m=\u001b[39m \u001b[38;5;28;01mlambda\u001b[39;00m gf,t: resizer(gf(t)\u001b[38;5;241m.\u001b[39mastype(\u001b[38;5;124m'\u001b[39m\u001b[38;5;124muint8\u001b[39m\u001b[38;5;124m'\u001b[39m),\n\u001b[0;32m    114\u001b[0m                                   newsize2(t))\n\u001b[1;32m--> 116\u001b[0m     \u001b[38;5;28;01mreturn\u001b[39;00m \u001b[43mclip\u001b[49m\u001b[38;5;241;43m.\u001b[39;49m\u001b[43mfl\u001b[49m\u001b[43m(\u001b[49m\u001b[43mfun\u001b[49m\u001b[43m,\u001b[49m\u001b[43m \u001b[49m\u001b[43mkeep_duration\u001b[49m\u001b[38;5;241;43m=\u001b[39;49m\u001b[38;5;28;43;01mTrue\u001b[39;49;00m\u001b[43m,\u001b[49m\n\u001b[0;32m    117\u001b[0m \u001b[43m                   \u001b[49m\u001b[43mapply_to\u001b[49m\u001b[38;5;241;43m=\u001b[39;49m\u001b[43m \u001b[49m\u001b[43m(\u001b[49m\u001b[43m[\u001b[49m\u001b[38;5;124;43m\"\u001b[39;49m\u001b[38;5;124;43mmask\u001b[39;49m\u001b[38;5;124;43m\"\u001b[39;49m\u001b[43m]\u001b[49m\u001b[43m \u001b[49m\u001b[38;5;28;43;01mif\u001b[39;49;00m\u001b[43m \u001b[49m\u001b[43mapply_to_mask\u001b[49m\u001b[43m \u001b[49m\u001b[38;5;28;43;01melse\u001b[39;49;00m\u001b[43m \u001b[49m\u001b[43m[\u001b[49m\u001b[43m]\u001b[49m\u001b[43m)\u001b[49m\u001b[43m)\u001b[49m\n\u001b[0;32m    119\u001b[0m \u001b[38;5;28;01melse\u001b[39;00m:\n\u001b[0;32m    121\u001b[0m     newsize \u001b[38;5;241m=\u001b[39m trans_newsize(newsize)\n",
      "File \u001b[1;32mc:\\Users\\lorra\\AppData\\Local\\Programs\\Python\\Python311\\Lib\\site-packages\\moviepy\\video\\VideoClip.py:921\u001b[0m, in \u001b[0;36mImageClip.fl\u001b[1;34m(self, fl, apply_to, keep_duration)\u001b[0m\n\u001b[0;32m    918\u001b[0m     apply_to \u001b[38;5;241m=\u001b[39m []\n\u001b[0;32m    919\u001b[0m \u001b[38;5;66;03m# When we use fl on an image clip it may become animated.\u001b[39;00m\n\u001b[0;32m    920\u001b[0m \u001b[38;5;66;03m# Therefore the result is not an ImageClip, just a VideoClip.\u001b[39;00m\n\u001b[1;32m--> 921\u001b[0m newclip \u001b[38;5;241m=\u001b[39m \u001b[43mVideoClip\u001b[49m\u001b[38;5;241;43m.\u001b[39;49m\u001b[43mfl\u001b[49m\u001b[43m(\u001b[49m\u001b[38;5;28;43mself\u001b[39;49m\u001b[43m,\u001b[49m\u001b[43m \u001b[49m\u001b[43mfl\u001b[49m\u001b[43m,\u001b[49m\u001b[43m \u001b[49m\u001b[43mapply_to\u001b[49m\u001b[38;5;241;43m=\u001b[39;49m\u001b[43mapply_to\u001b[49m\u001b[43m,\u001b[49m\n\u001b[0;32m    922\u001b[0m \u001b[43m                       \u001b[49m\u001b[43mkeep_duration\u001b[49m\u001b[38;5;241;43m=\u001b[39;49m\u001b[43mkeep_duration\u001b[49m\u001b[43m)\u001b[49m\n\u001b[0;32m    923\u001b[0m newclip\u001b[38;5;241m.\u001b[39m\u001b[38;5;18m__class__\u001b[39m \u001b[38;5;241m=\u001b[39m VideoClip\n\u001b[0;32m    924\u001b[0m \u001b[38;5;28;01mreturn\u001b[39;00m newclip\n",
      "File \u001b[1;32mc:\\Users\\lorra\\AppData\\Local\\Programs\\Python\\Python311\\Lib\\site-packages\\moviepy\\Clip.py:136\u001b[0m, in \u001b[0;36mClip.fl\u001b[1;34m(self, fun, apply_to, keep_duration)\u001b[0m\n\u001b[0;32m    133\u001b[0m     apply_to \u001b[38;5;241m=\u001b[39m []\n\u001b[0;32m    135\u001b[0m \u001b[38;5;66;03m#mf = copy(self.make_frame)\u001b[39;00m\n\u001b[1;32m--> 136\u001b[0m newclip \u001b[38;5;241m=\u001b[39m \u001b[38;5;28;43mself\u001b[39;49m\u001b[38;5;241;43m.\u001b[39;49m\u001b[43mset_make_frame\u001b[49m\u001b[43m(\u001b[49m\u001b[38;5;28;43;01mlambda\u001b[39;49;00m\u001b[43m \u001b[49m\u001b[43mt\u001b[49m\u001b[43m:\u001b[49m\u001b[43m \u001b[49m\u001b[43mfun\u001b[49m\u001b[43m(\u001b[49m\u001b[38;5;28;43mself\u001b[39;49m\u001b[38;5;241;43m.\u001b[39;49m\u001b[43mget_frame\u001b[49m\u001b[43m,\u001b[49m\u001b[43m \u001b[49m\u001b[43mt\u001b[49m\u001b[43m)\u001b[49m\u001b[43m)\u001b[49m\n\u001b[0;32m    138\u001b[0m \u001b[38;5;28;01mif\u001b[39;00m \u001b[38;5;129;01mnot\u001b[39;00m keep_duration:\n\u001b[0;32m    139\u001b[0m     newclip\u001b[38;5;241m.\u001b[39mduration \u001b[38;5;241m=\u001b[39m \u001b[38;5;28;01mNone\u001b[39;00m\n",
      "File \u001b[1;32m<decorator-gen-79>:2\u001b[0m, in \u001b[0;36mset_make_frame\u001b[1;34m(self, mf)\u001b[0m\n",
      "File \u001b[1;32mc:\\Users\\lorra\\AppData\\Local\\Programs\\Python\\Python311\\Lib\\site-packages\\moviepy\\decorators.py:14\u001b[0m, in \u001b[0;36moutplace\u001b[1;34m(f, clip, *a, **k)\u001b[0m\n\u001b[0;32m     12\u001b[0m \u001b[38;5;250m\u001b[39m\u001b[38;5;124;03m\"\"\" Applies f(clip.copy(), *a, **k) and returns clip.copy()\"\"\"\u001b[39;00m\n\u001b[0;32m     13\u001b[0m newclip \u001b[38;5;241m=\u001b[39m clip\u001b[38;5;241m.\u001b[39mcopy()\n\u001b[1;32m---> 14\u001b[0m \u001b[43mf\u001b[49m\u001b[43m(\u001b[49m\u001b[43mnewclip\u001b[49m\u001b[43m,\u001b[49m\u001b[43m \u001b[49m\u001b[38;5;241;43m*\u001b[39;49m\u001b[43ma\u001b[49m\u001b[43m,\u001b[49m\u001b[43m \u001b[49m\u001b[38;5;241;43m*\u001b[39;49m\u001b[38;5;241;43m*\u001b[39;49m\u001b[43mk\u001b[49m\u001b[43m)\u001b[49m\n\u001b[0;32m     15\u001b[0m \u001b[38;5;28;01mreturn\u001b[39;00m newclip\n",
      "File \u001b[1;32mc:\\Users\\lorra\\AppData\\Local\\Programs\\Python\\Python311\\Lib\\site-packages\\moviepy\\video\\VideoClip.py:644\u001b[0m, in \u001b[0;36mVideoClip.set_make_frame\u001b[1;34m(self, mf)\u001b[0m\n\u001b[0;32m    638\u001b[0m \u001b[38;5;250m\u001b[39m\u001b[38;5;124;03m\"\"\"Change the clip's ``get_frame``.\u001b[39;00m\n\u001b[0;32m    639\u001b[0m \n\u001b[0;32m    640\u001b[0m \u001b[38;5;124;03mReturns a copy of the VideoClip instance, with the make_frame\u001b[39;00m\n\u001b[0;32m    641\u001b[0m \u001b[38;5;124;03mattribute set to `mf`.\u001b[39;00m\n\u001b[0;32m    642\u001b[0m \u001b[38;5;124;03m\"\"\"\u001b[39;00m\n\u001b[0;32m    643\u001b[0m \u001b[38;5;28mself\u001b[39m\u001b[38;5;241m.\u001b[39mmake_frame \u001b[38;5;241m=\u001b[39m mf\n\u001b[1;32m--> 644\u001b[0m \u001b[38;5;28mself\u001b[39m\u001b[38;5;241m.\u001b[39msize \u001b[38;5;241m=\u001b[39m \u001b[38;5;28;43mself\u001b[39;49m\u001b[38;5;241;43m.\u001b[39;49m\u001b[43mget_frame\u001b[49m\u001b[43m(\u001b[49m\u001b[38;5;241;43m0\u001b[39;49m\u001b[43m)\u001b[49m\u001b[38;5;241m.\u001b[39mshape[:\u001b[38;5;241m2\u001b[39m][::\u001b[38;5;241m-\u001b[39m\u001b[38;5;241m1\u001b[39m]\n",
      "File \u001b[1;32m<decorator-gen-29>:2\u001b[0m, in \u001b[0;36mget_frame\u001b[1;34m(self, t)\u001b[0m\n",
      "File \u001b[1;32mc:\\Users\\lorra\\AppData\\Local\\Programs\\Python\\Python311\\Lib\\site-packages\\moviepy\\decorators.py:89\u001b[0m, in \u001b[0;36mpreprocess_args.<locals>.wrapper\u001b[1;34m(f, *a, **kw)\u001b[0m\n\u001b[0;32m     85\u001b[0m new_a \u001b[38;5;241m=\u001b[39m [fun(arg) \u001b[38;5;28;01mif\u001b[39;00m (name \u001b[38;5;129;01min\u001b[39;00m varnames) \u001b[38;5;28;01melse\u001b[39;00m arg\n\u001b[0;32m     86\u001b[0m          \u001b[38;5;28;01mfor\u001b[39;00m (arg, name) \u001b[38;5;129;01min\u001b[39;00m \u001b[38;5;28mzip\u001b[39m(a, names)]\n\u001b[0;32m     87\u001b[0m new_kw \u001b[38;5;241m=\u001b[39m {k: fun(v) \u001b[38;5;28;01mif\u001b[39;00m k \u001b[38;5;129;01min\u001b[39;00m varnames \u001b[38;5;28;01melse\u001b[39;00m v\n\u001b[0;32m     88\u001b[0m          \u001b[38;5;28;01mfor\u001b[39;00m (k,v) \u001b[38;5;129;01min\u001b[39;00m kw\u001b[38;5;241m.\u001b[39mitems()}\n\u001b[1;32m---> 89\u001b[0m \u001b[38;5;28;01mreturn\u001b[39;00m \u001b[43mf\u001b[49m\u001b[43m(\u001b[49m\u001b[38;5;241;43m*\u001b[39;49m\u001b[43mnew_a\u001b[49m\u001b[43m,\u001b[49m\u001b[43m \u001b[49m\u001b[38;5;241;43m*\u001b[39;49m\u001b[38;5;241;43m*\u001b[39;49m\u001b[43mnew_kw\u001b[49m\u001b[43m)\u001b[49m\n",
      "File \u001b[1;32mc:\\Users\\lorra\\AppData\\Local\\Programs\\Python\\Python311\\Lib\\site-packages\\moviepy\\Clip.py:93\u001b[0m, in \u001b[0;36mClip.get_frame\u001b[1;34m(self, t)\u001b[0m\n\u001b[0;32m     91\u001b[0m         \u001b[38;5;28;01mreturn\u001b[39;00m frame\n\u001b[0;32m     92\u001b[0m \u001b[38;5;28;01melse\u001b[39;00m:\n\u001b[1;32m---> 93\u001b[0m     \u001b[38;5;28;01mreturn\u001b[39;00m \u001b[38;5;28;43mself\u001b[39;49m\u001b[38;5;241;43m.\u001b[39;49m\u001b[43mmake_frame\u001b[49m\u001b[43m(\u001b[49m\u001b[43mt\u001b[49m\u001b[43m)\u001b[49m\n",
      "File \u001b[1;32mc:\\Users\\lorra\\AppData\\Local\\Programs\\Python\\Python311\\Lib\\site-packages\\moviepy\\Clip.py:136\u001b[0m, in \u001b[0;36mClip.fl.<locals>.<lambda>\u001b[1;34m(t)\u001b[0m\n\u001b[0;32m    133\u001b[0m     apply_to \u001b[38;5;241m=\u001b[39m []\n\u001b[0;32m    135\u001b[0m \u001b[38;5;66;03m#mf = copy(self.make_frame)\u001b[39;00m\n\u001b[1;32m--> 136\u001b[0m newclip \u001b[38;5;241m=\u001b[39m \u001b[38;5;28mself\u001b[39m\u001b[38;5;241m.\u001b[39mset_make_frame(\u001b[38;5;28;01mlambda\u001b[39;00m t: \u001b[43mfun\u001b[49m\u001b[43m(\u001b[49m\u001b[38;5;28;43mself\u001b[39;49m\u001b[38;5;241;43m.\u001b[39;49m\u001b[43mget_frame\u001b[49m\u001b[43m,\u001b[49m\u001b[43m \u001b[49m\u001b[43mt\u001b[49m\u001b[43m)\u001b[49m)\n\u001b[0;32m    138\u001b[0m \u001b[38;5;28;01mif\u001b[39;00m \u001b[38;5;129;01mnot\u001b[39;00m keep_duration:\n\u001b[0;32m    139\u001b[0m     newclip\u001b[38;5;241m.\u001b[39mduration \u001b[38;5;241m=\u001b[39m \u001b[38;5;28;01mNone\u001b[39;00m\n",
      "File \u001b[1;32mc:\\Users\\lorra\\AppData\\Local\\Programs\\Python\\Python311\\Lib\\site-packages\\moviepy\\video\\fx\\resize.py:114\u001b[0m, in \u001b[0;36mresize.<locals>.<lambda>\u001b[1;34m(gf, t)\u001b[0m\n\u001b[0;32m    109\u001b[0m         fun \u001b[38;5;241m=\u001b[39m \u001b[38;5;28;01mlambda\u001b[39;00m gf,t: (\u001b[38;5;241m1.0\u001b[39m\u001b[38;5;241m*\u001b[39mresizer((\u001b[38;5;241m255\u001b[39m \u001b[38;5;241m*\u001b[39m gf(t))\u001b[38;5;241m.\u001b[39mastype(\u001b[38;5;124m'\u001b[39m\u001b[38;5;124muint8\u001b[39m\u001b[38;5;124m'\u001b[39m),\n\u001b[0;32m    110\u001b[0m                                          newsize2(t))\u001b[38;5;241m/\u001b[39m\u001b[38;5;241m255\u001b[39m)\n\u001b[0;32m    111\u001b[0m     \u001b[38;5;28;01melse\u001b[39;00m:\n\u001b[0;32m    113\u001b[0m         fun \u001b[38;5;241m=\u001b[39m \u001b[38;5;28;01mlambda\u001b[39;00m gf,t: resizer(gf(t)\u001b[38;5;241m.\u001b[39mastype(\u001b[38;5;124m'\u001b[39m\u001b[38;5;124muint8\u001b[39m\u001b[38;5;124m'\u001b[39m),\n\u001b[1;32m--> 114\u001b[0m                                   \u001b[43mnewsize2\u001b[49m\u001b[43m(\u001b[49m\u001b[43mt\u001b[49m\u001b[43m)\u001b[49m)\n\u001b[0;32m    116\u001b[0m     \u001b[38;5;28;01mreturn\u001b[39;00m clip\u001b[38;5;241m.\u001b[39mfl(fun, keep_duration\u001b[38;5;241m=\u001b[39m\u001b[38;5;28;01mTrue\u001b[39;00m,\n\u001b[0;32m    117\u001b[0m                    apply_to\u001b[38;5;241m=\u001b[39m ([\u001b[38;5;124m\"\u001b[39m\u001b[38;5;124mmask\u001b[39m\u001b[38;5;124m\"\u001b[39m] \u001b[38;5;28;01mif\u001b[39;00m apply_to_mask \u001b[38;5;28;01melse\u001b[39;00m []))\n\u001b[0;32m    119\u001b[0m \u001b[38;5;28;01melse\u001b[39;00m:\n",
      "File \u001b[1;32mc:\\Users\\lorra\\AppData\\Local\\Programs\\Python\\Python311\\Lib\\site-packages\\moviepy\\video\\fx\\resize.py:105\u001b[0m, in \u001b[0;36mresize.<locals>.<lambda>\u001b[1;34m(t)\u001b[0m\n\u001b[0;32m    101\u001b[0m         \u001b[38;5;28;01mreturn\u001b[39;00m ns\n\u001b[0;32m    103\u001b[0m \u001b[38;5;28;01mif\u001b[39;00m \u001b[38;5;28mhasattr\u001b[39m(newsize, \u001b[38;5;124m\"\u001b[39m\u001b[38;5;124m__call__\u001b[39m\u001b[38;5;124m\"\u001b[39m):\n\u001b[1;32m--> 105\u001b[0m     newsize2 \u001b[38;5;241m=\u001b[39m \u001b[38;5;28;01mlambda\u001b[39;00m t : trans_newsize(\u001b[43mnewsize\u001b[49m\u001b[43m(\u001b[49m\u001b[43mt\u001b[49m\u001b[43m)\u001b[49m)\n\u001b[0;32m    107\u001b[0m     \u001b[38;5;28;01mif\u001b[39;00m clip\u001b[38;5;241m.\u001b[39mismask:\n\u001b[0;32m    109\u001b[0m         fun \u001b[38;5;241m=\u001b[39m \u001b[38;5;28;01mlambda\u001b[39;00m gf,t: (\u001b[38;5;241m1.0\u001b[39m\u001b[38;5;241m*\u001b[39mresizer((\u001b[38;5;241m255\u001b[39m \u001b[38;5;241m*\u001b[39m gf(t))\u001b[38;5;241m.\u001b[39mastype(\u001b[38;5;124m'\u001b[39m\u001b[38;5;124muint8\u001b[39m\u001b[38;5;124m'\u001b[39m),\n\u001b[0;32m    110\u001b[0m                                          newsize2(t))\u001b[38;5;241m/\u001b[39m\u001b[38;5;241m255\u001b[39m)\n",
      "Cell \u001b[1;32mIn[11], line 33\u001b[0m, in \u001b[0;36manimate_image.<locals>.<lambda>\u001b[1;34m(t)\u001b[0m\n\u001b[0;32m     30\u001b[0m move_func \u001b[38;5;241m=\u001b[39m \u001b[38;5;28;01mlambda\u001b[39;00m t: anim\u001b[38;5;241m.\u001b[39mget_pos(t)\n\u001b[0;32m     31\u001b[0m image_clip \u001b[38;5;241m=\u001b[39m image_clip\u001b[38;5;241m.\u001b[39mset_position(move_func)\n\u001b[1;32m---> 33\u001b[0m size_func \u001b[38;5;241m=\u001b[39m \u001b[38;5;28;01mlambda\u001b[39;00m t: \u001b[43manim\u001b[49m\u001b[38;5;241;43m.\u001b[39;49m\u001b[43mget_size\u001b[49m\u001b[43m(\u001b[49m\u001b[43mt\u001b[49m\u001b[43m)\u001b[49m\n\u001b[0;32m     34\u001b[0m image_clip \u001b[38;5;241m=\u001b[39m image_clip\u001b[38;5;241m.\u001b[39mresize(size_func)\n\u001b[0;32m     36\u001b[0m final_clip_middle \u001b[38;5;241m=\u001b[39m CompositeVideoClip([clip_middle, image_clip])\n",
      "File \u001b[1;32mc:\\Users\\lorra\\Documents\\Projets\\Infinite TikTok\\Animations.py:16\u001b[0m, in \u001b[0;36mMoveAnimation.get_size\u001b[1;34m(self, t)\u001b[0m\n\u001b[0;32m     15\u001b[0m \u001b[38;5;28;01mdef\u001b[39;00m \u001b[38;5;21mget_size\u001b[39m(\u001b[38;5;28mself\u001b[39m, t):\n\u001b[1;32m---> 16\u001b[0m     \u001b[38;5;28;01mreturn\u001b[39;00m (\u001b[38;5;28mself\u001b[39m\u001b[38;5;241m.\u001b[39mstart_size[\u001b[38;5;241m0\u001b[39m] \u001b[38;5;241m+\u001b[39m \u001b[43m(\u001b[49m\u001b[38;5;28;43mself\u001b[39;49m\u001b[38;5;241;43m.\u001b[39;49m\u001b[43mend_size\u001b[49m\u001b[43m[\u001b[49m\u001b[38;5;241;43m0\u001b[39;49m\u001b[43m]\u001b[49m\u001b[43m \u001b[49m\u001b[38;5;241;43m-\u001b[39;49m\u001b[43m \u001b[49m\u001b[38;5;28;43mself\u001b[39;49m\u001b[38;5;241;43m.\u001b[39;49m\u001b[43mstart_size\u001b[49m\u001b[43m[\u001b[49m\u001b[38;5;241;43m0\u001b[39;49m\u001b[43m]\u001b[49m\u001b[43m)\u001b[49m\u001b[43m \u001b[49m\u001b[38;5;241;43m/\u001b[39;49m\u001b[43m \u001b[49m\u001b[43mt\u001b[49m,\n\u001b[0;32m     17\u001b[0m             \u001b[38;5;28mself\u001b[39m\u001b[38;5;241m.\u001b[39mstart_size[\u001b[38;5;241m1\u001b[39m] \u001b[38;5;241m+\u001b[39m (\u001b[38;5;28mself\u001b[39m\u001b[38;5;241m.\u001b[39mend_size[\u001b[38;5;241m1\u001b[39m] \u001b[38;5;241m-\u001b[39m \u001b[38;5;28mself\u001b[39m\u001b[38;5;241m.\u001b[39mstart_size[\u001b[38;5;241m1\u001b[39m]) \u001b[38;5;241m/\u001b[39m t)\n",
      "\u001b[1;31mZeroDivisionError\u001b[0m: division by zero"
     ]
    }
   ],
   "source": [
    "moveAnim = MoveAnimation(3, 2, (0, 0), (160, 90))\n",
    "\n",
    "animate_image('mecquidanse.mp4', 'mecquidanse_with_image.mp4', 'jai_peur.png', moveAnim)"
   ]
  }
 ],
 "metadata": {
  "kernelspec": {
   "display_name": "Python 3",
   "language": "python",
   "name": "python3"
  },
  "language_info": {
   "codemirror_mode": {
    "name": "ipython",
    "version": 3
   },
   "file_extension": ".py",
   "mimetype": "text/x-python",
   "name": "python",
   "nbconvert_exporter": "python",
   "pygments_lexer": "ipython3",
   "version": "3.11.4"
  }
 },
 "nbformat": 4,
 "nbformat_minor": 2
}
