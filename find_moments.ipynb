{
 "cells": [
  {
   "cell_type": "code",
   "execution_count": 2,
   "metadata": {},
   "outputs": [],
   "source": [
    "text = \"\"\"“Houdini” is the lead single of Eminem’s twelfth studio album The Death of Slim Shady (Coup de Grâce). The track is named after Harry Houdini, a popular magician known for his death-defying stunts like the Chinese Water Torture Cell, which Eminem replicates in the intro to his 1999 track, “Role Model.”\n",
    "With the return of long-time collaborator Jeff Bass of the Bass Brothers, Eminem revisits his catchy albeit morbid sound of the early 2000s. This fanfare track sees him callback to his old catchphrases such as Shady’s iconic “Guess who’s back?” line from the 2002 track “Without Me.” The song heavily samples and interpolates the Steve Miller Band’s 1982 track “Abracadabra.”\n",
    "On October 24, 1926, the legendary Houdini tragically passed away in Detroit, Michigan at the age of 52. Interestingly, Detroit is also the hometown of Eminem, who turns 52 in October 2024.\n",
    "The single was first teased by Eminem on May 20, 2024, when he posted a teaser to his social media accounts with a text message from “All Contacts” stating, “…and for my last trick!” The text message also has the date of May 31, sparking rumors of Eminem releasing music on that day.\n",
    "On May 28, 2024, Eminem posted a video to Instagram of him on a FaceTime call with magician David Blaine. At the end of the video, he announced the release of “Houdini” on May 31, then closed out by stating “for my last trick, I’m gonna make my career disappear,” hinting at The Death of Slim Shady (Coup de Grâce) being his final album.\"\"\"\n"
   ]
  },
  {
   "cell_type": "markdown",
   "metadata": {},
   "source": [
    "## AWAN LLM"
   ]
  },
  {
   "cell_type": "code",
   "execution_count": 6,
   "metadata": {},
   "outputs": [],
   "source": [
    "import requests\n",
    "import json\n",
    "\n",
    "def chat_completion(model_name, awanllm_api_key, prompt, preprompt = None):\n",
    "    url = \"https://api.awanllm.com/v1/chat/completions\"\n",
    "\n",
    "    if preprompt is None:\n",
    "        preprompt = \"Your job will be to write the visual of a tiktok video: the images that show on screen. You have to find some nice moments in the story to place pictures that will show on screen. Tell me when you choose an image of what. In this format:\\nDURING THE SENTENCE [place the full sentence here] SHOW AN IMAGE OF [place the description of the image].\\nFor example:\\nDURING THE SENTENCE \\\"he ate a sandwich\\\", SHOW AN IMAGE OF a sandwich.\\n\\nNow it is your turn:\\n\\nSTORY : \"\n",
    "    else: preprompt = \"\"\n",
    "    \n",
    "    payload = json.dumps({\n",
    "      \"model\": model_name,\n",
    "      \"messages\": [\n",
    "        {\"role\": \"system\", \"content\": \"You are a helpful assistant.\"},\n",
    "        {\"role\": \"user\", \"content\": preprompt + prompt}  # updated with preprompt and prompt parameters\n",
    "      ],\n",
    "      \"repetition_penalty\": 1.1,\n",
    "      \"temperature\": 0.7,\n",
    "      \"top_p\": 0.9,\n",
    "      \"top_k\": 40,\n",
    "      \"max_tokens\": 4096,\n",
    "      \"stream\": True\n",
    "    })\n",
    "    headers = {\n",
    "      'Content-Type': 'application/json',\n",
    "      'Authorization': f\"Bearer {awanllm_api_key}\"\n",
    "    }\n",
    "\n",
    "    response = requests.request(\"POST\", url, headers=headers, data=payload)\n",
    "\n",
    "    return response\n"
   ]
  },
  {
   "cell_type": "code",
   "execution_count": 7,
   "metadata": {},
   "outputs": [
    {
     "name": "stdout",
     "output_type": "stream",
     "text": [
      "{'statusCode': 401, 'message': 'Invalid API Key', 'error': 'Unauthorized'}\n",
      "{\"statusCode\":401,\"message\":\"Invalid API Key\",\"error\":\"Unauthorized\"}\n",
      "b'{\"statusCode\":401,\"message\":\"Invalid API Key\",\"error\":\"Unauthorized\"}'\n"
     ]
    }
   ],
   "source": [
    "import os\n",
    "model_name = \"Mistral-7B-Instruct\"\n",
    "api_key = os.environ['API_KEY_AWAN']\n",
    "# print(api_key)\n",
    "\n",
    "response = chat_completion(\"MODEL_NAME\", \"AWANLLM_API_KEY\", \"The main character went to the beach and played with her dog.\")\n",
    "print(response.json())\n",
    "print(response.text)\n",
    "print(response.content)"
   ]
  },
  {
   "cell_type": "markdown",
   "metadata": {},
   "source": [
    "## Mistral"
   ]
  },
  {
   "cell_type": "code",
   "execution_count": 24,
   "metadata": {},
   "outputs": [],
   "source": [
    "import os\n",
    "from mistralai.client import MistralClient\n",
    "from mistralai.models.chat_completion import ChatMessage\n",
    "\n",
    "def get_description_pictures(story):\n",
    "    api_key = os.environ[\"MISTRAL_API_KEY\"]\n",
    "    model = \"open-mistral-7b\"\n",
    "\n",
    "    client = MistralClient(api_key=api_key)\n",
    "\n",
    "    preprompt = \"\"\"Your job will be to write the visual of a tiktok video: the images that show on screen. You have to find some nice moments in the story to place pictures that will show on screen. Tell me when you choose an image of what. In this format:\n",
    "    DURING THE SENTENCE \"[place the full sentence here]\", SHOW AN IMAGE OF \"[place the description of the image]\".\n",
    "    Answer only with the descriptions of all the images.\n",
    "    \n",
    "    For example:\n",
    "    DURING THE SENTENCE \"he ate a sandwich\", SHOW AN IMAGE OF \"a sandwich\".\n",
    "\n",
    "    Now it is your turn:\n",
    "\n",
    "    STORY : \"\"\"\n",
    "\n",
    "    messages = [\n",
    "        ChatMessage(role=\"user\", content=preprompt + f'\"{story}\"'),\n",
    "    ]\n",
    "\n",
    "    chat_response = client.chat(\n",
    "        model=model,\n",
    "        messages=messages,\n",
    "    )\n",
    "\n",
    "    results = chat_response.choices[0].message.content\n",
    "\n",
    "    return results.split(\"\\n\\n\")\n"
   ]
  },
  {
   "cell_type": "code",
   "execution_count": 25,
   "metadata": {},
   "outputs": [
    {
     "name": "stdout",
     "output_type": "stream",
     "text": [
      "['DURING THE SENTENCE \"A group of friends go on a road trip to the beach\", SHOW AN IMAGE OF \"A minivan or SUV filled with laughing friends, and the beach in the distance.\"', 'DURING THE SENTENCE \"They have a fun time swimming\", SHOW AN IMAGE OF \"Friends happily splashing in clear, turquoise water with bright sunshine behind them.\"', 'DURING THE SENTENCE \"Building sandcastles\", SHOW AN IMAGE OF \"Friends working together to build an elaborate sandcastle on the beach.\"', 'DURING THE SENTENCE \"Enjoying the sun\", SHOW AN IMAGE OF \"Friends lying on colorful beach towels with sunglasses, soaking up the sun and looking happy.\"', 'DURING THE SENTENCE \"At night, they roast marshmallows\", SHOW AN IMAGE OF \"Friends sitting around a cozy campfire on the beach, roasting marshmallows on sticks.\"', 'DURING THE SENTENCE \"and tell stories\", SHOW AN IMAGE OF \"Friends huddled around the campfire, sharing stories and laughing.\"']\n"
     ]
    }
   ],
   "source": [
    "story = \"A group of friends go on a road trip to the beach. They have a fun time swimming, building sandcastles, and enjoying the sun. At night, they roast marshmallows and tell stories.\"\n",
    "descriptions = get_description_pictures(story)\n",
    "\n",
    "print(descriptions)"
   ]
  },
  {
   "cell_type": "code",
   "execution_count": 26,
   "metadata": {},
   "outputs": [
    {
     "name": "stdout",
     "output_type": "stream",
     "text": [
      "DURING THE SENTENCE \"A group of friends go on a road trip to the beach\", SHOW AN IMAGE OF \"A minivan or SUV filled with laughing friends, and the beach in the distance.\"\n",
      "DURING THE SENTENCE \"They have a fun time swimming\", SHOW AN IMAGE OF \"Friends happily splashing in clear, turquoise water with bright sunshine behind them.\"\n",
      "DURING THE SENTENCE \"Building sandcastles\", SHOW AN IMAGE OF \"Friends working together to build an elaborate sandcastle on the beach.\"\n",
      "DURING THE SENTENCE \"Enjoying the sun\", SHOW AN IMAGE OF \"Friends lying on colorful beach towels with sunglasses, soaking up the sun and looking happy.\"\n",
      "DURING THE SENTENCE \"At night, they roast marshmallows\", SHOW AN IMAGE OF \"Friends sitting around a cozy campfire on the beach, roasting marshmallows on sticks.\"\n",
      "DURING THE SENTENCE \"and tell stories\", SHOW AN IMAGE OF \"Friends huddled around the campfire, sharing stories and laughing.\"\n",
      "{'\"A group of friends go on a road trip to the beach\"': '\"A minivan or SUV filled with laughing friends, and the beach in the distance.\"', '\"They have a fun time swimming\"': '\"Friends happily splashing in clear, turquoise water with bright sunshine behind them.\"', '\"Building sandcastles\"': '\"Friends working together to build an elaborate sandcastle on the beach.\"', '\"Enjoying the sun\"': '\"Friends lying on colorful beach towels with sunglasses, soaking up the sun and looking happy.\"', '\"At night, they roast marshmallows\"': '\"Friends sitting around a cozy campfire on the beach, roasting marshmallows on sticks.\"', '\"and tell stories\"': '\"Friends huddled around the campfire, sharing stories and laughing.\"'}\n"
     ]
    }
   ],
   "source": [
    "def convert_to_dict(lines):\n",
    "    visual_dict = {}\n",
    "    for line in lines:\n",
    "        print(line)\n",
    "        if line:\n",
    "            sentence, image_desc = line.split(', SHOW AN IMAGE OF ', 1)\n",
    "            sentence = sentence.replace('DURING THE SENTENCE ', '', 1)\n",
    "            visual_dict[sentence] = image_desc\n",
    "    return visual_dict\n",
    "\n",
    "d = convert_to_dict(descriptions)\n",
    "print(d)"
   ]
  },
  {
   "cell_type": "code",
   "execution_count": null,
   "metadata": {},
   "outputs": [],
   "source": []
  },
  {
   "cell_type": "code",
   "execution_count": null,
   "metadata": {},
   "outputs": [],
   "source": []
  }
 ],
 "metadata": {
  "kernelspec": {
   "display_name": "Python 3",
   "language": "python",
   "name": "python3"
  },
  "language_info": {
   "codemirror_mode": {
    "name": "ipython",
    "version": 3
   },
   "file_extension": ".py",
   "mimetype": "text/x-python",
   "name": "python",
   "nbconvert_exporter": "python",
   "pygments_lexer": "ipython3",
   "version": "3.11.4"
  }
 },
 "nbformat": 4,
 "nbformat_minor": 2
}
