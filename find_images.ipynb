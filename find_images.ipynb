{
 "cells": [
  {
   "cell_type": "code",
   "execution_count": 2,
   "metadata": {},
   "outputs": [
    {
     "name": "stdout",
     "output_type": "stream",
     "text": [
      "https://www.google.com/search?q=obama&tbm=isch\n",
      "No image found on the page.\n"
     ]
    }
   ],
   "source": [
    "import requests\n",
    "from bs4 import BeautifulSoup\n",
    "\n",
    "query = \"obama\"  # the search query you want to make\n",
    "url = f\"https://www.google.com/search?q={query}&tbm=isch\"  # the URL of the search result page\n",
    "print(url)\n",
    "response = requests.get(url)  # make a GET request to the URL\n",
    "soup = BeautifulSoup(response.text, \"html.parser\")  # parse the HTML content with BeautifulSoup\n",
    "# find the first image link by searching for the appropriate tag and attribute\n",
    "img_tag = soup.find(\"img\", {\"class\": \"yWs4tf\"})\n",
    "if img_tag is not None:\n",
    "    img_link = img_tag.get(\"src\")\n",
    "    print(img_link)  # print the first image link\n",
    "else:\n",
    "    print(\"No image found on the page.\")\n",
    "# print(soup.prettify())"
   ]
  },
  {
   "cell_type": "code",
   "execution_count": null,
   "metadata": {},
   "outputs": [],
   "source": [
    "# /html/body/div[5]/div/div[15]/div/div[2]/div[2]/div/div/div/div/div[1]/div/div/div[1]"
   ]
  },
  {
   "cell_type": "code",
   "execution_count": 8,
   "metadata": {},
   "outputs": [
    {
     "name": "stdout",
     "output_type": "stream",
     "text": [
      "['/images/branding/searchlogo/1x/googlelogo_desk_heirloom_color_150x55dp.gif', 'https://encrypted-tbn0.gstatic.com/images?q=tbn:ANd9GcSeCMC5QktaaJb_dkT05psJBwbNbxnH7HLehcKZT9JHUgfpItfCddya9F6TCI4&s', 'https://encrypted-tbn0.gstatic.com/images?q=tbn:ANd9GcTd-GOjWWd_daXq6ObQ-oMT42DoSqH4YPohJ4LtzRiHArhn4klnKR78exA0BiQ&s', 'https://encrypted-tbn0.gstatic.com/images?q=tbn:ANd9GcTc2Mb9aFF7KttN-DYuiCOFcTE_abzZuZdMZyvi-cMXcuRWl5ezujm984YX47I&s', 'https://encrypted-tbn0.gstatic.com/images?q=tbn:ANd9GcTCGkzqkGIZPl4hhjx1NHxAntQP0Nqn7wA_-M29W3KMx6yclNjJ6xnUnsLw9Q&s', 'https://encrypted-tbn0.gstatic.com/images?q=tbn:ANd9GcTjEFsIwcfgZPXWhWfsIaMMCoPmfnyfCETxw-_ehExCmwqTp4vQNq8WP1xo9g&s', 'https://encrypted-tbn0.gstatic.com/images?q=tbn:ANd9GcR6BflBF4WNv-usr_c7-ULBrk4cklbP9knphSFJSf7g-28MExcWjPUeYlAnXg&s', 'https://encrypted-tbn0.gstatic.com/images?q=tbn:ANd9GcQRV3yC0PmeGkvcHwZl8D3N50eBuIvZSImI-Yo8tDyxJw_U8t0CZqqoYUE5LA&s', 'https://encrypted-tbn0.gstatic.com/images?q=tbn:ANd9GcR5E25IE91t8g83iw6JXkaA8LAFc9pcBG2kCrlYG_2Rfh2ewoTsi30J3njKLG0&s', 'https://encrypted-tbn0.gstatic.com/images?q=tbn:ANd9GcRN_ZgcTG8IXRhLpEDbKxfn-rbpS2AK4S-EQWw-2V18v6W3CujsvnCvgH7gz0U&s', 'https://encrypted-tbn0.gstatic.com/images?q=tbn:ANd9GcS7ndBvANDUFl36-yZIWzwjeon20NizFE4g8zU4UykKQN54XhhsEXtdDs2ZNw&s', 'https://encrypted-tbn0.gstatic.com/images?q=tbn:ANd9GcS8Qk3uODjObj5vAabP5cIH14R5-v24lznFcF4CM8o4ZkSX2HcWqQUbibDcwe8&s', 'https://encrypted-tbn0.gstatic.com/images?q=tbn:ANd9GcTmh3Kjb3bNbQECSVW6hC5qrNWDtvKZLZ24qZR3ta8VGTBI0XZydX-GrqyHKw&s', 'https://encrypted-tbn0.gstatic.com/images?q=tbn:ANd9GcSKIN-g4GeXMgMQ8zTpiSTM1qeGJW_bIAV62A1Zv3SqIspiYSA8foLl_TmGyA&s', 'https://encrypted-tbn0.gstatic.com/images?q=tbn:ANd9GcSgyA6v0uYWcLcIlKF9lvGXCfLKhbCv3d5ZnclPAwyWBLlPW-oWY3R0-yLv9w&s', 'https://encrypted-tbn0.gstatic.com/images?q=tbn:ANd9GcSUvCI9eVHbjyi2viTQ1bqPU5Yfqsmmn0sr2qL0mZ5lLvek4RQZRzJfSenLdQ&s', 'https://encrypted-tbn0.gstatic.com/images?q=tbn:ANd9GcQABx2tfrmNyDA_tJSZ3gcUH4MyxeLZdYisun7hFhG-Fgv9Po-ORLNsigzOaiU&s', 'https://encrypted-tbn0.gstatic.com/images?q=tbn:ANd9GcTQS0EKDOwL7ZvfKSoXdLlAFhGdlQlbBb44BEjX2lK9Aombimos9HBzYBgp5Q&s', 'https://encrypted-tbn0.gstatic.com/images?q=tbn:ANd9GcRkfCBhnhUCxSWvhzcMfpJzExsU63I1PDQbUlNi4FwfR56ByWEZaaMx_dgXxCE&s', 'https://encrypted-tbn0.gstatic.com/images?q=tbn:ANd9GcRXT450VRfRaFffufHhVl1sr66AoN_ahyLKO7ZlEebMH88F6qX90JOGS1-e63k&s', 'https://encrypted-tbn0.gstatic.com/images?q=tbn:ANd9GcRVS2lsOU9qpyKflgnMZ5AqkGKjMGRko1tDVDRqKFezg8usnaFThsxupSLqEg&s']\n",
      "https://encrypted-tbn0.gstatic.com/images?q=tbn:ANd9GcSeCMC5QktaaJb_dkT05psJBwbNbxnH7HLehcKZT9JHUgfpItfCddya9F6TCI4&s\n"
     ]
    }
   ],
   "source": [
    "import requests\n",
    "from bs4 import BeautifulSoup\n",
    "import re\n",
    "\n",
    "def get_first_image_url(search_term):\n",
    "    search_term = search_term.replace(' ', '+')\n",
    "    url = f\"https://www.google.com/search?site=&tbm=isch&source=hp&biw=1873&bih=990&q={search_term}\"\n",
    "    headers = {'User-Agent': 'Mozilla/5.0'}\n",
    "\n",
    "    response = requests.get(url, headers=headers)\n",
    "    soup = BeautifulSoup(response.text, 'html.parser')\n",
    "    images = soup.find_all('img')\n",
    "    \n",
    "    srcs = [img['src'] for img in images]\n",
    "    # print(srcs)\n",
    "    for src in srcs:\n",
    "        if src.startswith('http'):\n",
    "            return src\n",
    "\n",
    "    return None\n",
    "\n",
    "print(get_first_image_url('obama'))"
   ]
  },
  {
   "cell_type": "code",
   "execution_count": 9,
   "metadata": {},
   "outputs": [],
   "source": [
    "import requests\n",
    "from bs4 import BeautifulSoup\n",
    "import re\n",
    "\n",
    "def get_first_image_url(search_term):\n",
    "    search_term = search_term.replace(' ', '+')\n",
    "    url = f\"https://www.google.com/search?site=&tbm=isch&source=hp&biw=1873&bih=990&q={search_term}\"\n",
    "    headers = {'User-Agent': 'Mozilla/5.0'}\n",
    "\n",
    "    response = requests.get(url, headers=headers)\n",
    "    soup = BeautifulSoup(response.text, 'html.parser')\n",
    "    a_tags = soup.find_all('a')\n",
    "\n",
    "    for a_tag in a_tags:\n",
    "        if a_tag.has_attr('href') and 'imgres' in a_tag['href']:\n",
    "            return a_tag['href'].split('&amp;imgrefurl=')[1].split('&amp;')[0]\n",
    "\n",
    "    return None\n"
   ]
  },
  {
   "cell_type": "code",
   "execution_count": 10,
   "metadata": {},
   "outputs": [
    {
     "name": "stdout",
     "output_type": "stream",
     "text": [
      "None\n"
     ]
    }
   ],
   "source": [
    "print(get_first_image_url('obama'))"
   ]
  },
  {
   "cell_type": "code",
   "execution_count": 2,
   "metadata": {},
   "outputs": [
    {
     "name": "stdout",
     "output_type": "stream",
     "text": [
      "https://upload.wikimedia.org/wikipedia/commons/8/8d/President_Barack_Obama.jpg\n"
     ]
    }
   ],
   "source": [
    "from google_images_search import GoogleImagesSearch\n",
    "import os\n",
    "# you can provide API key and CX using arguments,\n",
    "# or you can set environment variables: GCS_DEVELOPER_KEY, GCS_CX\n",
    "gis = GoogleImagesSearch(os.environ['GOOGLE_API_KEY'] , os.environ['GOOGLE_CX_KEY'])\n",
    "\n",
    "_search_params = {\n",
    "    'q': 'obama'\n",
    "}\n",
    "\n",
    "# this will only search for images:\n",
    "gis.search(search_params=_search_params)\n",
    "\n",
    "for result in gis.results():\n",
    "    print(result.url)"
   ]
  },
  {
   "cell_type": "code",
   "execution_count": 1,
   "metadata": {},
   "outputs": [
    {
     "data": {
      "text/plain": [
       "'https://upload.wikimedia.org/wikipedia/commons/8/8d/President_Barack_Obama.jpg'"
      ]
     },
     "execution_count": 1,
     "metadata": {},
     "output_type": "execute_result"
    }
   ],
   "source": [
    "from google_images_search import GoogleImagesSearch\n",
    "import os\n",
    "\n",
    "def get_first_image_url(search_term, path_to_dir='images'):\n",
    "    gis = GoogleImagesSearch(os.environ['GOOGLE_API_KEY'] , os.environ['GOOGLE_CX_KEY'])\n",
    "    _search_params = {\n",
    "        'q': search_term\n",
    "    }\n",
    "    gis.search(search_params=_search_params, path_to_dir=path_to_dir)\n",
    "\n",
    "    for result in gis.results():\n",
    "        return result.url\n",
    "\n",
    "    return None\n",
    "\n",
    "get_first_image_url(\"a reenactment of Houdini's Chinese Water Torture Cell stunt, with Eminem in place of Houdini\", 'images')"
   ]
  }
 ],
 "metadata": {
  "kernelspec": {
   "display_name": "Python 3",
   "language": "python",
   "name": "python3"
  },
  "language_info": {
   "codemirror_mode": {
    "name": "ipython",
    "version": 3
   },
   "file_extension": ".py",
   "mimetype": "text/x-python",
   "name": "python",
   "nbconvert_exporter": "python",
   "pygments_lexer": "ipython3",
   "version": "3.11.4"
  }
 },
 "nbformat": 4,
 "nbformat_minor": 2
}
